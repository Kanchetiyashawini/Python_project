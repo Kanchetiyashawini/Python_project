{
 "cells": [
  {
   "cell_type": "code",
   "execution_count": 1,
   "id": "64fa0f17",
   "metadata": {},
   "outputs": [
    {
     "name": "stdout",
     "output_type": "stream",
     "text": [
      "Requirement already satisfied: tabulate in c:\\users\\14699\\anaconda3\\lib\\site-packages (0.8.10)\n",
      "Note: you may need to restart the kernel to use updated packages.\n"
     ]
    }
   ],
   "source": [
    "pip install tabulate"
   ]
  },
  {
   "cell_type": "code",
   "execution_count": 2,
   "id": "aa672e0d",
   "metadata": {},
   "outputs": [],
   "source": [
    "import pandas as pd\n",
    "import numpy as np\n",
    "from tabulate import tabulate\n",
    "house_price = pd.read_csv(r'C:\\Users\\14699\\Downloads\\realtor-data_old.csv')"
   ]
  },
  {
   "cell_type": "code",
   "execution_count": 3,
   "id": "324a9624",
   "metadata": {},
   "outputs": [],
   "source": [
    "%matplotlib inline \n",
    "import numpy as np\n",
    "import matplotlib.pyplot as plt\n",
    "import seaborn as sns\n",
    "import warnings\n",
    "warnings.filterwarnings('ignore')"
   ]
  },
  {
   "cell_type": "code",
   "execution_count": 4,
   "id": "d5ce3a07",
   "metadata": {},
   "outputs": [],
   "source": [
    "from sklearn.preprocessing import LabelEncoder\n",
    "from sklearn.preprocessing import StandardScaler\n",
    "\n",
    "from sklearn.model_selection import train_test_split\n",
    "from sklearn.linear_model import LinearRegression"
   ]
  },
  {
   "cell_type": "code",
   "execution_count": 5,
   "id": "f0431acb",
   "metadata": {},
   "outputs": [
    {
     "name": "stdout",
     "output_type": "stream",
     "text": [
      "<class 'pandas.core.frame.DataFrame'>\n",
      "RangeIndex: 402159 entries, 0 to 402158\n",
      "Data columns (total 12 columns):\n",
      " #   Column        Non-Null Count   Dtype  \n",
      "---  ------        --------------   -----  \n",
      " 0   status        402159 non-null  object \n",
      " 1   price         402159 non-null  float64\n",
      " 2   bed           314887 non-null  float64\n",
      " 3   bath          316400 non-null  float64\n",
      " 4   acre_lot      326858 non-null  float64\n",
      " 5   full_address  402159 non-null  object \n",
      " 6   street        401962 non-null  object \n",
      " 7   city          402107 non-null  object \n",
      " 8   state         402159 non-null  object \n",
      " 9   zip_code      401962 non-null  float64\n",
      " 10  house_size    318977 non-null  float64\n",
      " 11  sold_date     137227 non-null  object \n",
      "dtypes: float64(6), object(6)\n",
      "memory usage: 36.8+ MB\n"
     ]
    }
   ],
   "source": [
    "house_price.info()"
   ]
  },
  {
   "cell_type": "code",
   "execution_count": 6,
   "id": "59e60b1f",
   "metadata": {},
   "outputs": [
    {
     "data": {
      "text/plain": [
       "12.368491069452629"
      ]
     },
     "execution_count": 6,
     "metadata": {},
     "output_type": "execute_result"
    }
   ],
   "source": [
    "#percentage of missing values\n",
    "house_price.isnull().sum().sum()/house_price.size * 100"
   ]
  },
  {
   "cell_type": "code",
   "execution_count": 7,
   "id": "3f012221",
   "metadata": {},
   "outputs": [
    {
     "data": {
      "text/plain": [
       "(402159, 12)"
      ]
     },
     "execution_count": 7,
     "metadata": {},
     "output_type": "execute_result"
    }
   ],
   "source": [
    "#shape of the data\n",
    "house_price.shape"
   ]
  },
  {
   "cell_type": "code",
   "execution_count": 8,
   "id": "63a5138c",
   "metadata": {},
   "outputs": [
    {
     "data": {
      "text/plain": [
       "status               0\n",
       "price                0\n",
       "bed              87272\n",
       "bath             85759\n",
       "acre_lot         75301\n",
       "full_address         0\n",
       "street             197\n",
       "city                52\n",
       "state                0\n",
       "zip_code           197\n",
       "house_size       83182\n",
       "sold_date       264932\n",
       "dtype: int64"
      ]
     },
     "execution_count": 8,
     "metadata": {},
     "output_type": "execute_result"
    }
   ],
   "source": [
    "#numer of missing values per column\n",
    "house_price.isna().sum()"
   ]
  },
  {
   "cell_type": "code",
   "execution_count": 9,
   "id": "f667cf7f",
   "metadata": {
    "scrolled": false
   },
   "outputs": [],
   "source": [
    "#dropping sold date as it will not be used further in any calculations\n",
    "house =  house_price.drop(['sold_date'],1)"
   ]
  },
  {
   "cell_type": "code",
   "execution_count": 10,
   "id": "4fecf240",
   "metadata": {},
   "outputs": [
    {
     "data": {
      "text/plain": [
       "7.50404238576827"
      ]
     },
     "execution_count": 10,
     "metadata": {},
     "output_type": "execute_result"
    }
   ],
   "source": [
    "#percentage of missing columns\n",
    "house.isnull().sum().sum()/house.size * 100"
   ]
  },
  {
   "cell_type": "code",
   "execution_count": 11,
   "id": "f1d3648a",
   "metadata": {
    "scrolled": true
   },
   "outputs": [
    {
     "name": "stdout",
     "output_type": "stream",
     "text": [
      "<class 'pandas.core.frame.DataFrame'>\n",
      "RangeIndex: 402159 entries, 0 to 402158\n",
      "Data columns (total 11 columns):\n",
      " #   Column        Non-Null Count   Dtype  \n",
      "---  ------        --------------   -----  \n",
      " 0   status        402159 non-null  object \n",
      " 1   price         402159 non-null  float64\n",
      " 2   bed           314887 non-null  float64\n",
      " 3   bath          316400 non-null  float64\n",
      " 4   acre_lot      326858 non-null  float64\n",
      " 5   full_address  402159 non-null  object \n",
      " 6   street        401962 non-null  object \n",
      " 7   city          402107 non-null  object \n",
      " 8   state         402159 non-null  object \n",
      " 9   zip_code      401962 non-null  float64\n",
      " 10  house_size    318977 non-null  float64\n",
      "dtypes: float64(6), object(5)\n",
      "memory usage: 33.8+ MB\n"
     ]
    }
   ],
   "source": [
    "house.info()"
   ]
  },
  {
   "cell_type": "code",
   "execution_count": 12,
   "id": "45dbc427",
   "metadata": {},
   "outputs": [
    {
     "data": {
      "text/plain": [
       "array(['for_sale', 'ready_to_build'], dtype=object)"
      ]
     },
     "execution_count": 12,
     "metadata": {},
     "output_type": "execute_result"
    }
   ],
   "source": [
    "#checking for unique statuses\n",
    "house.status.unique()"
   ]
  },
  {
   "cell_type": "code",
   "execution_count": 13,
   "id": "9deb2e4c",
   "metadata": {},
   "outputs": [
    {
     "data": {
      "text/plain": [
       "array(['Adjuntas', 'Juana Diaz', 'Ponce', ..., 'Poughkeepsie', 'Ansonia',\n",
       "       'Shelton'], dtype=object)"
      ]
     },
     "execution_count": 13,
     "metadata": {},
     "output_type": "execute_result"
    }
   ],
   "source": [
    "#checking for unique cities\n",
    "house.city.unique()"
   ]
  },
  {
   "cell_type": "code",
   "execution_count": 14,
   "id": "2e8acfe1",
   "metadata": {},
   "outputs": [
    {
     "data": {
      "text/plain": [
       "array(['Puerto Rico', 'Virgin Islands', 'Massachusetts', 'Connecticut',\n",
       "       'New Hampshire', 'Vermont', 'New Jersey', 'New York',\n",
       "       'South Carolina', 'Tennessee', 'Rhode Island', 'Virginia',\n",
       "       'Wyoming', 'Maine', 'Georgia'], dtype=object)"
      ]
     },
     "execution_count": 14,
     "metadata": {},
     "output_type": "execute_result"
    }
   ],
   "source": [
    "#checking for unique states\n",
    "house.state.unique()"
   ]
  },
  {
   "cell_type": "code",
   "execution_count": 15,
   "id": "1f986793",
   "metadata": {},
   "outputs": [
    {
     "data": {
      "text/html": [
       "<div>\n",
       "<style scoped>\n",
       "    .dataframe tbody tr th:only-of-type {\n",
       "        vertical-align: middle;\n",
       "    }\n",
       "\n",
       "    .dataframe tbody tr th {\n",
       "        vertical-align: top;\n",
       "    }\n",
       "\n",
       "    .dataframe thead th {\n",
       "        text-align: right;\n",
       "    }\n",
       "</style>\n",
       "<table border=\"1\" class=\"dataframe\">\n",
       "  <thead>\n",
       "    <tr style=\"text-align: right;\">\n",
       "      <th></th>\n",
       "      <th>status</th>\n",
       "      <th>price</th>\n",
       "      <th>bed</th>\n",
       "      <th>bath</th>\n",
       "      <th>acre_lot</th>\n",
       "      <th>full_address</th>\n",
       "      <th>street</th>\n",
       "      <th>city</th>\n",
       "      <th>state</th>\n",
       "      <th>zip_code</th>\n",
       "      <th>house_size</th>\n",
       "    </tr>\n",
       "  </thead>\n",
       "  <tbody>\n",
       "    <tr>\n",
       "      <th>0</th>\n",
       "      <td>for_sale</td>\n",
       "      <td>105000.0</td>\n",
       "      <td>3.0</td>\n",
       "      <td>2.0</td>\n",
       "      <td>0.12</td>\n",
       "      <td>Sector Yahuecas Titulo # V84, Adjuntas, PR, 00601</td>\n",
       "      <td>Sector Yahuecas Titulo # V84</td>\n",
       "      <td>Adjuntas</td>\n",
       "      <td>Puerto Rico</td>\n",
       "      <td>601.0</td>\n",
       "      <td>920.0</td>\n",
       "    </tr>\n",
       "    <tr>\n",
       "      <th>1</th>\n",
       "      <td>for_sale</td>\n",
       "      <td>80000.0</td>\n",
       "      <td>4.0</td>\n",
       "      <td>2.0</td>\n",
       "      <td>0.08</td>\n",
       "      <td>Km 78 9 Carr # 135, Adjuntas, PR, 00601</td>\n",
       "      <td>Km 78 9 Carr # 135</td>\n",
       "      <td>Adjuntas</td>\n",
       "      <td>Puerto Rico</td>\n",
       "      <td>601.0</td>\n",
       "      <td>1527.0</td>\n",
       "    </tr>\n",
       "    <tr>\n",
       "      <th>2</th>\n",
       "      <td>for_sale</td>\n",
       "      <td>67000.0</td>\n",
       "      <td>2.0</td>\n",
       "      <td>1.0</td>\n",
       "      <td>0.15</td>\n",
       "      <td>556G 556-G 16 St, Juana Diaz, PR, 00795</td>\n",
       "      <td>556G 556-G 16 St</td>\n",
       "      <td>Juana Diaz</td>\n",
       "      <td>Puerto Rico</td>\n",
       "      <td>795.0</td>\n",
       "      <td>748.0</td>\n",
       "    </tr>\n",
       "    <tr>\n",
       "      <th>3</th>\n",
       "      <td>for_sale</td>\n",
       "      <td>145000.0</td>\n",
       "      <td>4.0</td>\n",
       "      <td>2.0</td>\n",
       "      <td>0.10</td>\n",
       "      <td>R5 Comunidad El Paraso Calle De Oro R-5 Ponce,...</td>\n",
       "      <td>R5 Comunidad El Paraso Calle De Oro R-5 Ponce</td>\n",
       "      <td>Ponce</td>\n",
       "      <td>Puerto Rico</td>\n",
       "      <td>731.0</td>\n",
       "      <td>1800.0</td>\n",
       "    </tr>\n",
       "    <tr>\n",
       "      <th>4</th>\n",
       "      <td>for_sale</td>\n",
       "      <td>65000.0</td>\n",
       "      <td>6.0</td>\n",
       "      <td>2.0</td>\n",
       "      <td>0.05</td>\n",
       "      <td>14 Navarro, Mayaguez, PR, 00680</td>\n",
       "      <td>14 Navarro</td>\n",
       "      <td>Mayaguez</td>\n",
       "      <td>Puerto Rico</td>\n",
       "      <td>680.0</td>\n",
       "      <td>NaN</td>\n",
       "    </tr>\n",
       "    <tr>\n",
       "      <th>...</th>\n",
       "      <td>...</td>\n",
       "      <td>...</td>\n",
       "      <td>...</td>\n",
       "      <td>...</td>\n",
       "      <td>...</td>\n",
       "      <td>...</td>\n",
       "      <td>...</td>\n",
       "      <td>...</td>\n",
       "      <td>...</td>\n",
       "      <td>...</td>\n",
       "      <td>...</td>\n",
       "    </tr>\n",
       "    <tr>\n",
       "      <th>402136</th>\n",
       "      <td>for_sale</td>\n",
       "      <td>599900.0</td>\n",
       "      <td>4.0</td>\n",
       "      <td>3.0</td>\n",
       "      <td>1.13</td>\n",
       "      <td>15 Ridgewood Club Rd, Prospect, CT, 06712</td>\n",
       "      <td>15 Ridgewood Club Rd</td>\n",
       "      <td>Prospect</td>\n",
       "      <td>Connecticut</td>\n",
       "      <td>6712.0</td>\n",
       "      <td>2600.0</td>\n",
       "    </tr>\n",
       "    <tr>\n",
       "      <th>402137</th>\n",
       "      <td>for_sale</td>\n",
       "      <td>599900.0</td>\n",
       "      <td>4.0</td>\n",
       "      <td>3.0</td>\n",
       "      <td>1.13</td>\n",
       "      <td>19 Ridgewood Club Rd, Prospect, CT, 06712</td>\n",
       "      <td>19 Ridgewood Club Rd</td>\n",
       "      <td>Prospect</td>\n",
       "      <td>Connecticut</td>\n",
       "      <td>6712.0</td>\n",
       "      <td>2600.0</td>\n",
       "    </tr>\n",
       "    <tr>\n",
       "      <th>402138</th>\n",
       "      <td>for_sale</td>\n",
       "      <td>619900.0</td>\n",
       "      <td>4.0</td>\n",
       "      <td>3.0</td>\n",
       "      <td>1.13</td>\n",
       "      <td>24 Ridgewood Club Rd, Prospect, CT, 06712</td>\n",
       "      <td>24 Ridgewood Club Rd</td>\n",
       "      <td>Prospect</td>\n",
       "      <td>Connecticut</td>\n",
       "      <td>6712.0</td>\n",
       "      <td>2600.0</td>\n",
       "    </tr>\n",
       "    <tr>\n",
       "      <th>402139</th>\n",
       "      <td>for_sale</td>\n",
       "      <td>699999.0</td>\n",
       "      <td>4.0</td>\n",
       "      <td>3.0</td>\n",
       "      <td>0.75</td>\n",
       "      <td>265 S Brooksvale Rd, Cheshire, CT, 06410</td>\n",
       "      <td>265 S Brooksvale Rd</td>\n",
       "      <td>Cheshire</td>\n",
       "      <td>Connecticut</td>\n",
       "      <td>6410.0</td>\n",
       "      <td>2340.0</td>\n",
       "    </tr>\n",
       "    <tr>\n",
       "      <th>402158</th>\n",
       "      <td>for_sale</td>\n",
       "      <td>399900.0</td>\n",
       "      <td>4.0</td>\n",
       "      <td>2.0</td>\n",
       "      <td>2.15</td>\n",
       "      <td>61 Chestnut Tree Hill Road Ext, Oxford, CT, 06478</td>\n",
       "      <td>61 Chestnut Tree Hill Road Ext</td>\n",
       "      <td>Oxford</td>\n",
       "      <td>Connecticut</td>\n",
       "      <td>6478.0</td>\n",
       "      <td>2086.0</td>\n",
       "    </tr>\n",
       "  </tbody>\n",
       "</table>\n",
       "<p>36817 rows × 11 columns</p>\n",
       "</div>"
      ],
      "text/plain": [
       "          status     price  bed  bath  acre_lot  \\\n",
       "0       for_sale  105000.0  3.0   2.0      0.12   \n",
       "1       for_sale   80000.0  4.0   2.0      0.08   \n",
       "2       for_sale   67000.0  2.0   1.0      0.15   \n",
       "3       for_sale  145000.0  4.0   2.0      0.10   \n",
       "4       for_sale   65000.0  6.0   2.0      0.05   \n",
       "...          ...       ...  ...   ...       ...   \n",
       "402136  for_sale  599900.0  4.0   3.0      1.13   \n",
       "402137  for_sale  599900.0  4.0   3.0      1.13   \n",
       "402138  for_sale  619900.0  4.0   3.0      1.13   \n",
       "402139  for_sale  699999.0  4.0   3.0      0.75   \n",
       "402158  for_sale  399900.0  4.0   2.0      2.15   \n",
       "\n",
       "                                             full_address  \\\n",
       "0       Sector Yahuecas Titulo # V84, Adjuntas, PR, 00601   \n",
       "1                 Km 78 9 Carr # 135, Adjuntas, PR, 00601   \n",
       "2                 556G 556-G 16 St, Juana Diaz, PR, 00795   \n",
       "3       R5 Comunidad El Paraso Calle De Oro R-5 Ponce,...   \n",
       "4                         14 Navarro, Mayaguez, PR, 00680   \n",
       "...                                                   ...   \n",
       "402136          15 Ridgewood Club Rd, Prospect, CT, 06712   \n",
       "402137          19 Ridgewood Club Rd, Prospect, CT, 06712   \n",
       "402138          24 Ridgewood Club Rd, Prospect, CT, 06712   \n",
       "402139           265 S Brooksvale Rd, Cheshire, CT, 06410   \n",
       "402158  61 Chestnut Tree Hill Road Ext, Oxford, CT, 06478   \n",
       "\n",
       "                                               street        city  \\\n",
       "0                        Sector Yahuecas Titulo # V84    Adjuntas   \n",
       "1                                  Km 78 9 Carr # 135    Adjuntas   \n",
       "2                                    556G 556-G 16 St  Juana Diaz   \n",
       "3       R5 Comunidad El Paraso Calle De Oro R-5 Ponce       Ponce   \n",
       "4                                          14 Navarro    Mayaguez   \n",
       "...                                               ...         ...   \n",
       "402136                           15 Ridgewood Club Rd    Prospect   \n",
       "402137                           19 Ridgewood Club Rd    Prospect   \n",
       "402138                           24 Ridgewood Club Rd    Prospect   \n",
       "402139                            265 S Brooksvale Rd    Cheshire   \n",
       "402158                 61 Chestnut Tree Hill Road Ext      Oxford   \n",
       "\n",
       "              state  zip_code  house_size  \n",
       "0       Puerto Rico     601.0       920.0  \n",
       "1       Puerto Rico     601.0      1527.0  \n",
       "2       Puerto Rico     795.0       748.0  \n",
       "3       Puerto Rico     731.0      1800.0  \n",
       "4       Puerto Rico     680.0         NaN  \n",
       "...             ...       ...         ...  \n",
       "402136  Connecticut    6712.0      2600.0  \n",
       "402137  Connecticut    6712.0      2600.0  \n",
       "402138  Connecticut    6712.0      2600.0  \n",
       "402139  Connecticut    6410.0      2340.0  \n",
       "402158  Connecticut    6478.0      2086.0  \n",
       "\n",
       "[36817 rows x 11 columns]"
      ]
     },
     "execution_count": 15,
     "metadata": {},
     "output_type": "execute_result"
    }
   ],
   "source": [
    "#dropping duplicates\n",
    "house.drop_duplicates()"
   ]
  },
  {
   "cell_type": "code",
   "execution_count": 16,
   "id": "01066a82",
   "metadata": {},
   "outputs": [],
   "source": [
    "#removing duplicated addresses\n",
    "house.duplicated(subset=\"full_address\")\n",
    "house.drop_duplicates(subset=['full_address'], inplace = True)"
   ]
  },
  {
   "cell_type": "code",
   "execution_count": 17,
   "id": "af8a94b6",
   "metadata": {},
   "outputs": [
    {
     "data": {
      "text/plain": [
       "(36488, 11)"
      ]
     },
     "execution_count": 17,
     "metadata": {},
     "output_type": "execute_result"
    }
   ],
   "source": [
    "#no duplicates in data\n",
    "house.shape"
   ]
  },
  {
   "cell_type": "code",
   "execution_count": 18,
   "id": "ab530dea",
   "metadata": {},
   "outputs": [],
   "source": [
    "#for dealing with missing values\n",
    "columns_missing = ['bed','bath','acre_lot','house_size']"
   ]
  },
  {
   "cell_type": "code",
   "execution_count": 19,
   "id": "4e2d8b61",
   "metadata": {},
   "outputs": [],
   "source": [
    "#grouping by city and dealing with missing values by taking their average\n",
    "house[columns_missing] = house.groupby(\"city\")[columns_missing].transform(lambda x: x.fillna(x.mean()))"
   ]
  },
  {
   "cell_type": "code",
   "execution_count": 20,
   "id": "360d36d9",
   "metadata": {},
   "outputs": [
    {
     "data": {
      "text/plain": [
       "status            0\n",
       "price             0\n",
       "bed             189\n",
       "bath            227\n",
       "acre_lot         83\n",
       "full_address      0\n",
       "street           61\n",
       "city             16\n",
       "state             0\n",
       "zip_code         28\n",
       "house_size      179\n",
       "dtype: int64"
      ]
     },
     "execution_count": 20,
     "metadata": {},
     "output_type": "execute_result"
    }
   ],
   "source": [
    "house.isnull().sum() "
   ]
  },
  {
   "cell_type": "code",
   "execution_count": 21,
   "id": "09290263",
   "metadata": {},
   "outputs": [],
   "source": [
    "#grouping by state and dealing with missing values by taking their average\n",
    "house[columns_missing] = house.groupby(\"state\")[columns_missing].transform(lambda x: x.fillna(x.mean()))"
   ]
  },
  {
   "cell_type": "code",
   "execution_count": 22,
   "id": "72317314",
   "metadata": {},
   "outputs": [
    {
     "data": {
      "text/plain": [
       "status           0\n",
       "price            0\n",
       "bed              4\n",
       "bath             4\n",
       "acre_lot         1\n",
       "full_address     0\n",
       "street          61\n",
       "city            16\n",
       "state            0\n",
       "zip_code        28\n",
       "house_size       4\n",
       "dtype: int64"
      ]
     },
     "execution_count": 22,
     "metadata": {},
     "output_type": "execute_result"
    }
   ],
   "source": [
    "house.isnull().sum() "
   ]
  },
  {
   "cell_type": "code",
   "execution_count": 23,
   "id": "3aca0bbd",
   "metadata": {},
   "outputs": [],
   "source": [
    "#dropping remaining rows with missing values. \n",
    "house.dropna(inplace=True)"
   ]
  },
  {
   "cell_type": "code",
   "execution_count": 24,
   "id": "3bea9bb0",
   "metadata": {
    "scrolled": true
   },
   "outputs": [
    {
     "data": {
      "text/plain": [
       "status          0\n",
       "price           0\n",
       "bed             0\n",
       "bath            0\n",
       "acre_lot        0\n",
       "full_address    0\n",
       "street          0\n",
       "city            0\n",
       "state           0\n",
       "zip_code        0\n",
       "house_size      0\n",
       "dtype: int64"
      ]
     },
     "execution_count": 24,
     "metadata": {},
     "output_type": "execute_result"
    }
   ],
   "source": [
    "house.isnull().sum() "
   ]
  },
  {
   "cell_type": "code",
   "execution_count": 25,
   "id": "dc9c36a1",
   "metadata": {},
   "outputs": [],
   "source": [
    "#rounding up no. of bedrooms and bathrooms\n",
    "bed_bath = ['bed','bath']\n",
    "house[bed_bath] = house[bed_bath].round()"
   ]
  },
  {
   "cell_type": "code",
   "execution_count": 26,
   "id": "59bbac4e",
   "metadata": {
    "scrolled": true
   },
   "outputs": [
    {
     "data": {
      "text/html": [
       "<div>\n",
       "<style scoped>\n",
       "    .dataframe tbody tr th:only-of-type {\n",
       "        vertical-align: middle;\n",
       "    }\n",
       "\n",
       "    .dataframe tbody tr th {\n",
       "        vertical-align: top;\n",
       "    }\n",
       "\n",
       "    .dataframe thead th {\n",
       "        text-align: right;\n",
       "    }\n",
       "</style>\n",
       "<table border=\"1\" class=\"dataframe\">\n",
       "  <thead>\n",
       "    <tr style=\"text-align: right;\">\n",
       "      <th></th>\n",
       "      <th>status</th>\n",
       "      <th>price</th>\n",
       "      <th>bed</th>\n",
       "      <th>bath</th>\n",
       "      <th>acre_lot</th>\n",
       "      <th>full_address</th>\n",
       "      <th>street</th>\n",
       "      <th>city</th>\n",
       "      <th>state</th>\n",
       "      <th>zip_code</th>\n",
       "      <th>house_size</th>\n",
       "    </tr>\n",
       "  </thead>\n",
       "  <tbody>\n",
       "    <tr>\n",
       "      <th>0</th>\n",
       "      <td>for_sale</td>\n",
       "      <td>105000.0</td>\n",
       "      <td>3.0</td>\n",
       "      <td>2.0</td>\n",
       "      <td>0.12</td>\n",
       "      <td>Sector Yahuecas Titulo # V84, Adjuntas, PR, 00601</td>\n",
       "      <td>Sector Yahuecas Titulo # V84</td>\n",
       "      <td>Adjuntas</td>\n",
       "      <td>Puerto Rico</td>\n",
       "      <td>601.0</td>\n",
       "      <td>920.000000</td>\n",
       "    </tr>\n",
       "    <tr>\n",
       "      <th>1</th>\n",
       "      <td>for_sale</td>\n",
       "      <td>80000.0</td>\n",
       "      <td>4.0</td>\n",
       "      <td>2.0</td>\n",
       "      <td>0.08</td>\n",
       "      <td>Km 78 9 Carr # 135, Adjuntas, PR, 00601</td>\n",
       "      <td>Km 78 9 Carr # 135</td>\n",
       "      <td>Adjuntas</td>\n",
       "      <td>Puerto Rico</td>\n",
       "      <td>601.0</td>\n",
       "      <td>1527.000000</td>\n",
       "    </tr>\n",
       "    <tr>\n",
       "      <th>2</th>\n",
       "      <td>for_sale</td>\n",
       "      <td>67000.0</td>\n",
       "      <td>2.0</td>\n",
       "      <td>1.0</td>\n",
       "      <td>0.15</td>\n",
       "      <td>556G 556-G 16 St, Juana Diaz, PR, 00795</td>\n",
       "      <td>556G 556-G 16 St</td>\n",
       "      <td>Juana Diaz</td>\n",
       "      <td>Puerto Rico</td>\n",
       "      <td>795.0</td>\n",
       "      <td>748.000000</td>\n",
       "    </tr>\n",
       "    <tr>\n",
       "      <th>3</th>\n",
       "      <td>for_sale</td>\n",
       "      <td>145000.0</td>\n",
       "      <td>4.0</td>\n",
       "      <td>2.0</td>\n",
       "      <td>0.10</td>\n",
       "      <td>R5 Comunidad El Paraso Calle De Oro R-5 Ponce,...</td>\n",
       "      <td>R5 Comunidad El Paraso Calle De Oro R-5 Ponce</td>\n",
       "      <td>Ponce</td>\n",
       "      <td>Puerto Rico</td>\n",
       "      <td>731.0</td>\n",
       "      <td>1800.000000</td>\n",
       "    </tr>\n",
       "    <tr>\n",
       "      <th>4</th>\n",
       "      <td>for_sale</td>\n",
       "      <td>65000.0</td>\n",
       "      <td>6.0</td>\n",
       "      <td>2.0</td>\n",
       "      <td>0.05</td>\n",
       "      <td>14 Navarro, Mayaguez, PR, 00680</td>\n",
       "      <td>14 Navarro</td>\n",
       "      <td>Mayaguez</td>\n",
       "      <td>Puerto Rico</td>\n",
       "      <td>680.0</td>\n",
       "      <td>2004.533333</td>\n",
       "    </tr>\n",
       "    <tr>\n",
       "      <th>...</th>\n",
       "      <td>...</td>\n",
       "      <td>...</td>\n",
       "      <td>...</td>\n",
       "      <td>...</td>\n",
       "      <td>...</td>\n",
       "      <td>...</td>\n",
       "      <td>...</td>\n",
       "      <td>...</td>\n",
       "      <td>...</td>\n",
       "      <td>...</td>\n",
       "      <td>...</td>\n",
       "    </tr>\n",
       "    <tr>\n",
       "      <th>36382</th>\n",
       "      <td>for_sale</td>\n",
       "      <td>599900.0</td>\n",
       "      <td>4.0</td>\n",
       "      <td>3.0</td>\n",
       "      <td>1.13</td>\n",
       "      <td>15 Ridgewood Club Rd, Prospect, CT, 06712</td>\n",
       "      <td>15 Ridgewood Club Rd</td>\n",
       "      <td>Prospect</td>\n",
       "      <td>Connecticut</td>\n",
       "      <td>6712.0</td>\n",
       "      <td>2600.000000</td>\n",
       "    </tr>\n",
       "    <tr>\n",
       "      <th>36383</th>\n",
       "      <td>for_sale</td>\n",
       "      <td>599900.0</td>\n",
       "      <td>4.0</td>\n",
       "      <td>3.0</td>\n",
       "      <td>1.13</td>\n",
       "      <td>19 Ridgewood Club Rd, Prospect, CT, 06712</td>\n",
       "      <td>19 Ridgewood Club Rd</td>\n",
       "      <td>Prospect</td>\n",
       "      <td>Connecticut</td>\n",
       "      <td>6712.0</td>\n",
       "      <td>2600.000000</td>\n",
       "    </tr>\n",
       "    <tr>\n",
       "      <th>36384</th>\n",
       "      <td>for_sale</td>\n",
       "      <td>619900.0</td>\n",
       "      <td>4.0</td>\n",
       "      <td>3.0</td>\n",
       "      <td>1.13</td>\n",
       "      <td>24 Ridgewood Club Rd, Prospect, CT, 06712</td>\n",
       "      <td>24 Ridgewood Club Rd</td>\n",
       "      <td>Prospect</td>\n",
       "      <td>Connecticut</td>\n",
       "      <td>6712.0</td>\n",
       "      <td>2600.000000</td>\n",
       "    </tr>\n",
       "    <tr>\n",
       "      <th>36385</th>\n",
       "      <td>for_sale</td>\n",
       "      <td>699999.0</td>\n",
       "      <td>4.0</td>\n",
       "      <td>3.0</td>\n",
       "      <td>0.75</td>\n",
       "      <td>265 S Brooksvale Rd, Cheshire, CT, 06410</td>\n",
       "      <td>265 S Brooksvale Rd</td>\n",
       "      <td>Cheshire</td>\n",
       "      <td>Connecticut</td>\n",
       "      <td>6410.0</td>\n",
       "      <td>2340.000000</td>\n",
       "    </tr>\n",
       "    <tr>\n",
       "      <th>36386</th>\n",
       "      <td>for_sale</td>\n",
       "      <td>399900.0</td>\n",
       "      <td>4.0</td>\n",
       "      <td>2.0</td>\n",
       "      <td>2.15</td>\n",
       "      <td>61 Chestnut Tree Hill Road Ext, Oxford, CT, 06478</td>\n",
       "      <td>61 Chestnut Tree Hill Road Ext</td>\n",
       "      <td>Oxford</td>\n",
       "      <td>Connecticut</td>\n",
       "      <td>6478.0</td>\n",
       "      <td>2086.000000</td>\n",
       "    </tr>\n",
       "  </tbody>\n",
       "</table>\n",
       "<p>36387 rows × 11 columns</p>\n",
       "</div>"
      ],
      "text/plain": [
       "         status     price  bed  bath  acre_lot  \\\n",
       "0      for_sale  105000.0  3.0   2.0      0.12   \n",
       "1      for_sale   80000.0  4.0   2.0      0.08   \n",
       "2      for_sale   67000.0  2.0   1.0      0.15   \n",
       "3      for_sale  145000.0  4.0   2.0      0.10   \n",
       "4      for_sale   65000.0  6.0   2.0      0.05   \n",
       "...         ...       ...  ...   ...       ...   \n",
       "36382  for_sale  599900.0  4.0   3.0      1.13   \n",
       "36383  for_sale  599900.0  4.0   3.0      1.13   \n",
       "36384  for_sale  619900.0  4.0   3.0      1.13   \n",
       "36385  for_sale  699999.0  4.0   3.0      0.75   \n",
       "36386  for_sale  399900.0  4.0   2.0      2.15   \n",
       "\n",
       "                                            full_address  \\\n",
       "0      Sector Yahuecas Titulo # V84, Adjuntas, PR, 00601   \n",
       "1                Km 78 9 Carr # 135, Adjuntas, PR, 00601   \n",
       "2                556G 556-G 16 St, Juana Diaz, PR, 00795   \n",
       "3      R5 Comunidad El Paraso Calle De Oro R-5 Ponce,...   \n",
       "4                        14 Navarro, Mayaguez, PR, 00680   \n",
       "...                                                  ...   \n",
       "36382          15 Ridgewood Club Rd, Prospect, CT, 06712   \n",
       "36383          19 Ridgewood Club Rd, Prospect, CT, 06712   \n",
       "36384          24 Ridgewood Club Rd, Prospect, CT, 06712   \n",
       "36385           265 S Brooksvale Rd, Cheshire, CT, 06410   \n",
       "36386  61 Chestnut Tree Hill Road Ext, Oxford, CT, 06478   \n",
       "\n",
       "                                              street        city        state  \\\n",
       "0                       Sector Yahuecas Titulo # V84    Adjuntas  Puerto Rico   \n",
       "1                                 Km 78 9 Carr # 135    Adjuntas  Puerto Rico   \n",
       "2                                   556G 556-G 16 St  Juana Diaz  Puerto Rico   \n",
       "3      R5 Comunidad El Paraso Calle De Oro R-5 Ponce       Ponce  Puerto Rico   \n",
       "4                                         14 Navarro    Mayaguez  Puerto Rico   \n",
       "...                                              ...         ...          ...   \n",
       "36382                           15 Ridgewood Club Rd    Prospect  Connecticut   \n",
       "36383                           19 Ridgewood Club Rd    Prospect  Connecticut   \n",
       "36384                           24 Ridgewood Club Rd    Prospect  Connecticut   \n",
       "36385                            265 S Brooksvale Rd    Cheshire  Connecticut   \n",
       "36386                 61 Chestnut Tree Hill Road Ext      Oxford  Connecticut   \n",
       "\n",
       "       zip_code   house_size  \n",
       "0         601.0   920.000000  \n",
       "1         601.0  1527.000000  \n",
       "2         795.0   748.000000  \n",
       "3         731.0  1800.000000  \n",
       "4         680.0  2004.533333  \n",
       "...         ...          ...  \n",
       "36382    6712.0  2600.000000  \n",
       "36383    6712.0  2600.000000  \n",
       "36384    6712.0  2600.000000  \n",
       "36385    6410.0  2340.000000  \n",
       "36386    6478.0  2086.000000  \n",
       "\n",
       "[36387 rows x 11 columns]"
      ]
     },
     "execution_count": 26,
     "metadata": {},
     "output_type": "execute_result"
    }
   ],
   "source": [
    "#limiting the maximum no. of beds to 50 and bathrooms to 30. Anything beyond \n",
    "#will be considered an outlier\n",
    "\n",
    "house=house[house['bed']<=50]\n",
    "house=house[house['bath']<=30]\n",
    "house=house.reset_index(drop=True)\n",
    "house"
   ]
  },
  {
   "cell_type": "code",
   "execution_count": 27,
   "id": "2ecdeb2d",
   "metadata": {},
   "outputs": [
    {
     "data": {
      "text/plain": [
       "(36387, 11)"
      ]
     },
     "execution_count": 27,
     "metadata": {},
     "output_type": "execute_result"
    }
   ],
   "source": [
    "house.shape"
   ]
  },
  {
   "cell_type": "code",
   "execution_count": 28,
   "id": "f75f0e82",
   "metadata": {},
   "outputs": [],
   "source": [
    "house.index = np.arange(house.index.size)"
   ]
  },
  {
   "cell_type": "code",
   "execution_count": 29,
   "id": "04787cc9",
   "metadata": {
    "scrolled": true
   },
   "outputs": [
    {
     "data": {
      "text/html": [
       "<div>\n",
       "<style scoped>\n",
       "    .dataframe tbody tr th:only-of-type {\n",
       "        vertical-align: middle;\n",
       "    }\n",
       "\n",
       "    .dataframe tbody tr th {\n",
       "        vertical-align: top;\n",
       "    }\n",
       "\n",
       "    .dataframe thead th {\n",
       "        text-align: right;\n",
       "    }\n",
       "</style>\n",
       "<table border=\"1\" class=\"dataframe\">\n",
       "  <thead>\n",
       "    <tr style=\"text-align: right;\">\n",
       "      <th></th>\n",
       "      <th>status</th>\n",
       "      <th>price</th>\n",
       "      <th>bed</th>\n",
       "      <th>bath</th>\n",
       "      <th>acre_lot</th>\n",
       "      <th>full_address</th>\n",
       "      <th>street</th>\n",
       "      <th>city</th>\n",
       "      <th>state</th>\n",
       "      <th>zip_code</th>\n",
       "      <th>house_size</th>\n",
       "    </tr>\n",
       "  </thead>\n",
       "  <tbody>\n",
       "    <tr>\n",
       "      <th>0</th>\n",
       "      <td>for_sale</td>\n",
       "      <td>105000.0</td>\n",
       "      <td>3.0</td>\n",
       "      <td>2.0</td>\n",
       "      <td>0.12</td>\n",
       "      <td>Sector Yahuecas Titulo # V84, Adjuntas, PR, 00601</td>\n",
       "      <td>Sector Yahuecas Titulo # V84</td>\n",
       "      <td>Adjuntas</td>\n",
       "      <td>Puerto Rico</td>\n",
       "      <td>601.0</td>\n",
       "      <td>920.000000</td>\n",
       "    </tr>\n",
       "    <tr>\n",
       "      <th>1</th>\n",
       "      <td>for_sale</td>\n",
       "      <td>80000.0</td>\n",
       "      <td>4.0</td>\n",
       "      <td>2.0</td>\n",
       "      <td>0.08</td>\n",
       "      <td>Km 78 9 Carr # 135, Adjuntas, PR, 00601</td>\n",
       "      <td>Km 78 9 Carr # 135</td>\n",
       "      <td>Adjuntas</td>\n",
       "      <td>Puerto Rico</td>\n",
       "      <td>601.0</td>\n",
       "      <td>1527.000000</td>\n",
       "    </tr>\n",
       "    <tr>\n",
       "      <th>2</th>\n",
       "      <td>for_sale</td>\n",
       "      <td>67000.0</td>\n",
       "      <td>2.0</td>\n",
       "      <td>1.0</td>\n",
       "      <td>0.15</td>\n",
       "      <td>556G 556-G 16 St, Juana Diaz, PR, 00795</td>\n",
       "      <td>556G 556-G 16 St</td>\n",
       "      <td>Juana Diaz</td>\n",
       "      <td>Puerto Rico</td>\n",
       "      <td>795.0</td>\n",
       "      <td>748.000000</td>\n",
       "    </tr>\n",
       "    <tr>\n",
       "      <th>3</th>\n",
       "      <td>for_sale</td>\n",
       "      <td>145000.0</td>\n",
       "      <td>4.0</td>\n",
       "      <td>2.0</td>\n",
       "      <td>0.10</td>\n",
       "      <td>R5 Comunidad El Paraso Calle De Oro R-5 Ponce,...</td>\n",
       "      <td>R5 Comunidad El Paraso Calle De Oro R-5 Ponce</td>\n",
       "      <td>Ponce</td>\n",
       "      <td>Puerto Rico</td>\n",
       "      <td>731.0</td>\n",
       "      <td>1800.000000</td>\n",
       "    </tr>\n",
       "    <tr>\n",
       "      <th>4</th>\n",
       "      <td>for_sale</td>\n",
       "      <td>65000.0</td>\n",
       "      <td>6.0</td>\n",
       "      <td>2.0</td>\n",
       "      <td>0.05</td>\n",
       "      <td>14 Navarro, Mayaguez, PR, 00680</td>\n",
       "      <td>14 Navarro</td>\n",
       "      <td>Mayaguez</td>\n",
       "      <td>Puerto Rico</td>\n",
       "      <td>680.0</td>\n",
       "      <td>2004.533333</td>\n",
       "    </tr>\n",
       "    <tr>\n",
       "      <th>...</th>\n",
       "      <td>...</td>\n",
       "      <td>...</td>\n",
       "      <td>...</td>\n",
       "      <td>...</td>\n",
       "      <td>...</td>\n",
       "      <td>...</td>\n",
       "      <td>...</td>\n",
       "      <td>...</td>\n",
       "      <td>...</td>\n",
       "      <td>...</td>\n",
       "      <td>...</td>\n",
       "    </tr>\n",
       "    <tr>\n",
       "      <th>36362</th>\n",
       "      <td>for_sale</td>\n",
       "      <td>225000.0</td>\n",
       "      <td>3.0</td>\n",
       "      <td>2.0</td>\n",
       "      <td>0.19</td>\n",
       "      <td>79 Smith St, Derby, CT, 06418</td>\n",
       "      <td>79 Smith St</td>\n",
       "      <td>Derby</td>\n",
       "      <td>Connecticut</td>\n",
       "      <td>6418.0</td>\n",
       "      <td>1368.000000</td>\n",
       "    </tr>\n",
       "    <tr>\n",
       "      <th>36363</th>\n",
       "      <td>for_sale</td>\n",
       "      <td>539900.0</td>\n",
       "      <td>4.0</td>\n",
       "      <td>3.0</td>\n",
       "      <td>1.45</td>\n",
       "      <td>27 Barberry Ln, Woodbridge, CT, 06525</td>\n",
       "      <td>27 Barberry Ln</td>\n",
       "      <td>Woodbridge</td>\n",
       "      <td>Connecticut</td>\n",
       "      <td>6525.0</td>\n",
       "      <td>2150.000000</td>\n",
       "    </tr>\n",
       "    <tr>\n",
       "      <th>36364</th>\n",
       "      <td>for_sale</td>\n",
       "      <td>394900.0</td>\n",
       "      <td>3.0</td>\n",
       "      <td>3.0</td>\n",
       "      <td>0.29</td>\n",
       "      <td>3 Sobin Dr, Ansonia, CT, 06401</td>\n",
       "      <td>3 Sobin Dr</td>\n",
       "      <td>Ansonia</td>\n",
       "      <td>Connecticut</td>\n",
       "      <td>6401.0</td>\n",
       "      <td>1500.000000</td>\n",
       "    </tr>\n",
       "    <tr>\n",
       "      <th>36365</th>\n",
       "      <td>for_sale</td>\n",
       "      <td>299900.0</td>\n",
       "      <td>3.0</td>\n",
       "      <td>2.0</td>\n",
       "      <td>0.36</td>\n",
       "      <td>23 David Humphrey Rd, Derby, CT, 06418</td>\n",
       "      <td>23 David Humphrey Rd</td>\n",
       "      <td>Derby</td>\n",
       "      <td>Connecticut</td>\n",
       "      <td>6418.0</td>\n",
       "      <td>1152.000000</td>\n",
       "    </tr>\n",
       "    <tr>\n",
       "      <th>36366</th>\n",
       "      <td>for_sale</td>\n",
       "      <td>239000.0</td>\n",
       "      <td>6.0</td>\n",
       "      <td>2.0</td>\n",
       "      <td>0.06</td>\n",
       "      <td>206 Lounsbury St, Waterbury, CT, 06706</td>\n",
       "      <td>206 Lounsbury St</td>\n",
       "      <td>Waterbury</td>\n",
       "      <td>Connecticut</td>\n",
       "      <td>6706.0</td>\n",
       "      <td>3493.000000</td>\n",
       "    </tr>\n",
       "  </tbody>\n",
       "</table>\n",
       "<p>36367 rows × 11 columns</p>\n",
       "</div>"
      ],
      "text/plain": [
       "         status     price  bed  bath  acre_lot  \\\n",
       "0      for_sale  105000.0  3.0   2.0      0.12   \n",
       "1      for_sale   80000.0  4.0   2.0      0.08   \n",
       "2      for_sale   67000.0  2.0   1.0      0.15   \n",
       "3      for_sale  145000.0  4.0   2.0      0.10   \n",
       "4      for_sale   65000.0  6.0   2.0      0.05   \n",
       "...         ...       ...  ...   ...       ...   \n",
       "36362  for_sale  225000.0  3.0   2.0      0.19   \n",
       "36363  for_sale  539900.0  4.0   3.0      1.45   \n",
       "36364  for_sale  394900.0  3.0   3.0      0.29   \n",
       "36365  for_sale  299900.0  3.0   2.0      0.36   \n",
       "36366  for_sale  239000.0  6.0   2.0      0.06   \n",
       "\n",
       "                                            full_address  \\\n",
       "0      Sector Yahuecas Titulo # V84, Adjuntas, PR, 00601   \n",
       "1                Km 78 9 Carr # 135, Adjuntas, PR, 00601   \n",
       "2                556G 556-G 16 St, Juana Diaz, PR, 00795   \n",
       "3      R5 Comunidad El Paraso Calle De Oro R-5 Ponce,...   \n",
       "4                        14 Navarro, Mayaguez, PR, 00680   \n",
       "...                                                  ...   \n",
       "36362                      79 Smith St, Derby, CT, 06418   \n",
       "36363              27 Barberry Ln, Woodbridge, CT, 06525   \n",
       "36364                     3 Sobin Dr, Ansonia, CT, 06401   \n",
       "36365             23 David Humphrey Rd, Derby, CT, 06418   \n",
       "36366             206 Lounsbury St, Waterbury, CT, 06706   \n",
       "\n",
       "                                              street        city        state  \\\n",
       "0                       Sector Yahuecas Titulo # V84    Adjuntas  Puerto Rico   \n",
       "1                                 Km 78 9 Carr # 135    Adjuntas  Puerto Rico   \n",
       "2                                   556G 556-G 16 St  Juana Diaz  Puerto Rico   \n",
       "3      R5 Comunidad El Paraso Calle De Oro R-5 Ponce       Ponce  Puerto Rico   \n",
       "4                                         14 Navarro    Mayaguez  Puerto Rico   \n",
       "...                                              ...         ...          ...   \n",
       "36362                                    79 Smith St       Derby  Connecticut   \n",
       "36363                                 27 Barberry Ln  Woodbridge  Connecticut   \n",
       "36364                                     3 Sobin Dr     Ansonia  Connecticut   \n",
       "36365                           23 David Humphrey Rd       Derby  Connecticut   \n",
       "36366                               206 Lounsbury St   Waterbury  Connecticut   \n",
       "\n",
       "       zip_code   house_size  \n",
       "0         601.0   920.000000  \n",
       "1         601.0  1527.000000  \n",
       "2         795.0   748.000000  \n",
       "3         731.0  1800.000000  \n",
       "4         680.0  2004.533333  \n",
       "...         ...          ...  \n",
       "36362    6418.0  1368.000000  \n",
       "36363    6525.0  2150.000000  \n",
       "36364    6401.0  1500.000000  \n",
       "36365    6418.0  1152.000000  \n",
       "36366    6706.0  3493.000000  \n",
       "\n",
       "[36367 rows x 11 columns]"
      ]
     },
     "execution_count": 29,
     "metadata": {},
     "output_type": "execute_result"
    }
   ],
   "source": [
    "house.head(-20)"
   ]
  },
  {
   "cell_type": "code",
   "execution_count": 30,
   "id": "e1102a2e",
   "metadata": {},
   "outputs": [
    {
     "data": {
      "text/html": [
       "<div>\n",
       "<style scoped>\n",
       "    .dataframe tbody tr th:only-of-type {\n",
       "        vertical-align: middle;\n",
       "    }\n",
       "\n",
       "    .dataframe tbody tr th {\n",
       "        vertical-align: top;\n",
       "    }\n",
       "\n",
       "    .dataframe thead th {\n",
       "        text-align: right;\n",
       "    }\n",
       "</style>\n",
       "<table border=\"1\" class=\"dataframe\">\n",
       "  <thead>\n",
       "    <tr style=\"text-align: right;\">\n",
       "      <th></th>\n",
       "      <th>price</th>\n",
       "      <th>bed</th>\n",
       "      <th>bath</th>\n",
       "      <th>acre_lot</th>\n",
       "      <th>zip_code</th>\n",
       "      <th>house_size</th>\n",
       "    </tr>\n",
       "  </thead>\n",
       "  <tbody>\n",
       "    <tr>\n",
       "      <th>count</th>\n",
       "      <td>3.638700e+04</td>\n",
       "      <td>36387.000000</td>\n",
       "      <td>36387.000000</td>\n",
       "      <td>36387.000000</td>\n",
       "      <td>36387.000000</td>\n",
       "      <td>3.638700e+04</td>\n",
       "    </tr>\n",
       "    <tr>\n",
       "      <th>mean</th>\n",
       "      <td>6.119961e+05</td>\n",
       "      <td>3.469179</td>\n",
       "      <td>2.543821</td>\n",
       "      <td>24.257087</td>\n",
       "      <td>3977.075467</td>\n",
       "      <td>2.307112e+03</td>\n",
       "    </tr>\n",
       "    <tr>\n",
       "      <th>std</th>\n",
       "      <td>1.235525e+06</td>\n",
       "      <td>1.637169</td>\n",
       "      <td>1.376824</td>\n",
       "      <td>1060.529329</td>\n",
       "      <td>2750.942932</td>\n",
       "      <td>8.373990e+03</td>\n",
       "    </tr>\n",
       "    <tr>\n",
       "      <th>min</th>\n",
       "      <td>1.000000e+00</td>\n",
       "      <td>1.000000</td>\n",
       "      <td>1.000000</td>\n",
       "      <td>0.000000</td>\n",
       "      <td>601.000000</td>\n",
       "      <td>1.000000e+02</td>\n",
       "    </tr>\n",
       "    <tr>\n",
       "      <th>25%</th>\n",
       "      <td>1.745000e+05</td>\n",
       "      <td>3.000000</td>\n",
       "      <td>2.000000</td>\n",
       "      <td>0.250000</td>\n",
       "      <td>2128.000000</td>\n",
       "      <td>1.350000e+03</td>\n",
       "    </tr>\n",
       "    <tr>\n",
       "      <th>50%</th>\n",
       "      <td>3.399000e+05</td>\n",
       "      <td>3.000000</td>\n",
       "      <td>2.000000</td>\n",
       "      <td>0.920000</td>\n",
       "      <td>3257.000000</td>\n",
       "      <td>1.927744e+03</td>\n",
       "    </tr>\n",
       "    <tr>\n",
       "      <th>75%</th>\n",
       "      <td>6.190000e+05</td>\n",
       "      <td>4.000000</td>\n",
       "      <td>3.000000</td>\n",
       "      <td>3.626667</td>\n",
       "      <td>5751.000000</td>\n",
       "      <td>2.599727e+03</td>\n",
       "    </tr>\n",
       "    <tr>\n",
       "      <th>max</th>\n",
       "      <td>6.000000e+07</td>\n",
       "      <td>49.000000</td>\n",
       "      <td>30.000000</td>\n",
       "      <td>100000.000000</td>\n",
       "      <td>99999.000000</td>\n",
       "      <td>1.450112e+06</td>\n",
       "    </tr>\n",
       "  </tbody>\n",
       "</table>\n",
       "</div>"
      ],
      "text/plain": [
       "              price           bed          bath       acre_lot      zip_code  \\\n",
       "count  3.638700e+04  36387.000000  36387.000000   36387.000000  36387.000000   \n",
       "mean   6.119961e+05      3.469179      2.543821      24.257087   3977.075467   \n",
       "std    1.235525e+06      1.637169      1.376824    1060.529329   2750.942932   \n",
       "min    1.000000e+00      1.000000      1.000000       0.000000    601.000000   \n",
       "25%    1.745000e+05      3.000000      2.000000       0.250000   2128.000000   \n",
       "50%    3.399000e+05      3.000000      2.000000       0.920000   3257.000000   \n",
       "75%    6.190000e+05      4.000000      3.000000       3.626667   5751.000000   \n",
       "max    6.000000e+07     49.000000     30.000000  100000.000000  99999.000000   \n",
       "\n",
       "         house_size  \n",
       "count  3.638700e+04  \n",
       "mean   2.307112e+03  \n",
       "std    8.373990e+03  \n",
       "min    1.000000e+02  \n",
       "25%    1.350000e+03  \n",
       "50%    1.927744e+03  \n",
       "75%    2.599727e+03  \n",
       "max    1.450112e+06  "
      ]
     },
     "execution_count": 30,
     "metadata": {},
     "output_type": "execute_result"
    }
   ],
   "source": [
    "house.describe()"
   ]
  },
  {
   "cell_type": "code",
   "execution_count": 31,
   "id": "e83af5cb",
   "metadata": {},
   "outputs": [
    {
     "data": {
      "text/plain": [
       "(36387, 11)"
      ]
     },
     "execution_count": 31,
     "metadata": {},
     "output_type": "execute_result"
    }
   ],
   "source": [
    "house.shape"
   ]
  },
  {
   "cell_type": "code",
   "execution_count": 32,
   "id": "5d5e9b75",
   "metadata": {},
   "outputs": [
    {
     "data": {
      "text/plain": [
       "status          0\n",
       "price           0\n",
       "bed             0\n",
       "bath            0\n",
       "acre_lot        0\n",
       "full_address    0\n",
       "street          0\n",
       "city            0\n",
       "state           0\n",
       "zip_code        0\n",
       "house_size      0\n",
       "dtype: int64"
      ]
     },
     "execution_count": 32,
     "metadata": {},
     "output_type": "execute_result"
    }
   ],
   "source": [
    "house.isnull().sum() "
   ]
  },
  {
   "cell_type": "code",
   "execution_count": 33,
   "id": "e7179f7f",
   "metadata": {},
   "outputs": [
    {
     "data": {
      "text/plain": [
       "Index(['status', 'price', 'bed', 'bath', 'acre_lot', 'full_address', 'street',\n",
       "       'city', 'state', 'zip_code', 'house_size', 'price_std', 'bed_std',\n",
       "       'bath_std', 'acre_lot_std', 'house_size_std'],\n",
       "      dtype='object')"
      ]
     },
     "execution_count": 33,
     "metadata": {},
     "output_type": "execute_result"
    }
   ],
   "source": [
    "# Standardization of numerical variables\n",
    "\n",
    "scaled= StandardScaler()\n",
    "house['price_std'] = scaled.fit_transform(house[['price']])\n",
    "house['bed_std'] = scaled.fit_transform(house[['bed']])\n",
    "house['bath_std'] = scaled.fit_transform(house[['bath']])\n",
    "house['acre_lot_std'] = scaled.fit_transform(house[['acre_lot']])\n",
    "house['house_size_std'] = scaled.fit_transform(house[['house_size']])\n",
    "house.columns"
   ]
  },
  {
   "cell_type": "code",
   "execution_count": 34,
   "id": "c22632e8",
   "metadata": {},
   "outputs": [],
   "source": [
    "# Using Label Encoder to normalize labels\n",
    "\n",
    "LB = LabelEncoder()\n",
    "\n",
    "house[\"cityEnc\"] = LB.fit_transform(house[\"city\"])\n",
    "house[\"stateEnc\"] = LB.fit_transform(house[\"state\"])\n"
   ]
  },
  {
   "cell_type": "code",
   "execution_count": 35,
   "id": "f52460ac",
   "metadata": {},
   "outputs": [
    {
     "data": {
      "text/html": [
       "<div>\n",
       "<style scoped>\n",
       "    .dataframe tbody tr th:only-of-type {\n",
       "        vertical-align: middle;\n",
       "    }\n",
       "\n",
       "    .dataframe tbody tr th {\n",
       "        vertical-align: top;\n",
       "    }\n",
       "\n",
       "    .dataframe thead th {\n",
       "        text-align: right;\n",
       "    }\n",
       "</style>\n",
       "<table border=\"1\" class=\"dataframe\">\n",
       "  <thead>\n",
       "    <tr style=\"text-align: right;\">\n",
       "      <th></th>\n",
       "      <th>status</th>\n",
       "      <th>price</th>\n",
       "      <th>bed</th>\n",
       "      <th>bath</th>\n",
       "      <th>acre_lot</th>\n",
       "      <th>full_address</th>\n",
       "      <th>street</th>\n",
       "      <th>city</th>\n",
       "      <th>state</th>\n",
       "      <th>zip_code</th>\n",
       "      <th>house_size</th>\n",
       "      <th>price_std</th>\n",
       "      <th>bed_std</th>\n",
       "      <th>bath_std</th>\n",
       "      <th>acre_lot_std</th>\n",
       "      <th>house_size_std</th>\n",
       "      <th>cityEnc</th>\n",
       "      <th>stateEnc</th>\n",
       "    </tr>\n",
       "  </thead>\n",
       "  <tbody>\n",
       "    <tr>\n",
       "      <th>0</th>\n",
       "      <td>for_sale</td>\n",
       "      <td>105000.0</td>\n",
       "      <td>3.0</td>\n",
       "      <td>2.0</td>\n",
       "      <td>0.12</td>\n",
       "      <td>Sector Yahuecas Titulo # V84, Adjuntas, PR, 00601</td>\n",
       "      <td>Sector Yahuecas Titulo # V84</td>\n",
       "      <td>Adjuntas</td>\n",
       "      <td>Puerto Rico</td>\n",
       "      <td>601.0</td>\n",
       "      <td>920.000000</td>\n",
       "      <td>-0.410354</td>\n",
       "      <td>-0.286583</td>\n",
       "      <td>-0.394987</td>\n",
       "      <td>-0.022760</td>\n",
       "      <td>-0.165648</td>\n",
       "      <td>8</td>\n",
       "      <td>7</td>\n",
       "    </tr>\n",
       "    <tr>\n",
       "      <th>1</th>\n",
       "      <td>for_sale</td>\n",
       "      <td>80000.0</td>\n",
       "      <td>4.0</td>\n",
       "      <td>2.0</td>\n",
       "      <td>0.08</td>\n",
       "      <td>Km 78 9 Carr # 135, Adjuntas, PR, 00601</td>\n",
       "      <td>Km 78 9 Carr # 135</td>\n",
       "      <td>Adjuntas</td>\n",
       "      <td>Puerto Rico</td>\n",
       "      <td>601.0</td>\n",
       "      <td>1527.000000</td>\n",
       "      <td>-0.430589</td>\n",
       "      <td>0.324236</td>\n",
       "      <td>-0.394987</td>\n",
       "      <td>-0.022798</td>\n",
       "      <td>-0.093160</td>\n",
       "      <td>8</td>\n",
       "      <td>7</td>\n",
       "    </tr>\n",
       "    <tr>\n",
       "      <th>2</th>\n",
       "      <td>for_sale</td>\n",
       "      <td>67000.0</td>\n",
       "      <td>2.0</td>\n",
       "      <td>1.0</td>\n",
       "      <td>0.15</td>\n",
       "      <td>556G 556-G 16 St, Juana Diaz, PR, 00795</td>\n",
       "      <td>556G 556-G 16 St</td>\n",
       "      <td>Juana Diaz</td>\n",
       "      <td>Puerto Rico</td>\n",
       "      <td>795.0</td>\n",
       "      <td>748.000000</td>\n",
       "      <td>-0.441111</td>\n",
       "      <td>-0.897402</td>\n",
       "      <td>-1.121307</td>\n",
       "      <td>-0.022731</td>\n",
       "      <td>-0.186188</td>\n",
       "      <td>602</td>\n",
       "      <td>7</td>\n",
       "    </tr>\n",
       "    <tr>\n",
       "      <th>3</th>\n",
       "      <td>for_sale</td>\n",
       "      <td>145000.0</td>\n",
       "      <td>4.0</td>\n",
       "      <td>2.0</td>\n",
       "      <td>0.10</td>\n",
       "      <td>R5 Comunidad El Paraso Calle De Oro R-5 Ponce,...</td>\n",
       "      <td>R5 Comunidad El Paraso Calle De Oro R-5 Ponce</td>\n",
       "      <td>Ponce</td>\n",
       "      <td>Puerto Rico</td>\n",
       "      <td>731.0</td>\n",
       "      <td>1800.000000</td>\n",
       "      <td>-0.377979</td>\n",
       "      <td>0.324236</td>\n",
       "      <td>-0.394987</td>\n",
       "      <td>-0.022779</td>\n",
       "      <td>-0.060559</td>\n",
       "      <td>965</td>\n",
       "      <td>7</td>\n",
       "    </tr>\n",
       "    <tr>\n",
       "      <th>4</th>\n",
       "      <td>for_sale</td>\n",
       "      <td>65000.0</td>\n",
       "      <td>6.0</td>\n",
       "      <td>2.0</td>\n",
       "      <td>0.05</td>\n",
       "      <td>14 Navarro, Mayaguez, PR, 00680</td>\n",
       "      <td>14 Navarro</td>\n",
       "      <td>Mayaguez</td>\n",
       "      <td>Puerto Rico</td>\n",
       "      <td>680.0</td>\n",
       "      <td>2004.533333</td>\n",
       "      <td>-0.442730</td>\n",
       "      <td>1.545874</td>\n",
       "      <td>-0.394987</td>\n",
       "      <td>-0.022826</td>\n",
       "      <td>-0.036134</td>\n",
       "      <td>720</td>\n",
       "      <td>7</td>\n",
       "    </tr>\n",
       "    <tr>\n",
       "      <th>5</th>\n",
       "      <td>for_sale</td>\n",
       "      <td>179000.0</td>\n",
       "      <td>4.0</td>\n",
       "      <td>3.0</td>\n",
       "      <td>0.46</td>\n",
       "      <td>Bo Calabazas San Sebastian, San Sebastian, PR,...</td>\n",
       "      <td>Bo Calabazas San Sebastian</td>\n",
       "      <td>San Sebastian</td>\n",
       "      <td>Puerto Rico</td>\n",
       "      <td>612.0</td>\n",
       "      <td>2520.000000</td>\n",
       "      <td>-0.350460</td>\n",
       "      <td>0.324236</td>\n",
       "      <td>0.331332</td>\n",
       "      <td>-0.022439</td>\n",
       "      <td>0.025423</td>\n",
       "      <td>1057</td>\n",
       "      <td>7</td>\n",
       "    </tr>\n",
       "    <tr>\n",
       "      <th>6</th>\n",
       "      <td>for_sale</td>\n",
       "      <td>50000.0</td>\n",
       "      <td>3.0</td>\n",
       "      <td>1.0</td>\n",
       "      <td>0.20</td>\n",
       "      <td>49.1 140, Ciales, PR, 00639</td>\n",
       "      <td>49.1 140</td>\n",
       "      <td>Ciales</td>\n",
       "      <td>Puerto Rico</td>\n",
       "      <td>639.0</td>\n",
       "      <td>2040.000000</td>\n",
       "      <td>-0.454870</td>\n",
       "      <td>-0.286583</td>\n",
       "      <td>-1.121307</td>\n",
       "      <td>-0.022684</td>\n",
       "      <td>-0.031898</td>\n",
       "      <td>245</td>\n",
       "      <td>7</td>\n",
       "    </tr>\n",
       "    <tr>\n",
       "      <th>7</th>\n",
       "      <td>for_sale</td>\n",
       "      <td>71600.0</td>\n",
       "      <td>3.0</td>\n",
       "      <td>2.0</td>\n",
       "      <td>0.08</td>\n",
       "      <td>3467 St, Ponce, PR, 00731</td>\n",
       "      <td>3467 St</td>\n",
       "      <td>Ponce</td>\n",
       "      <td>Puerto Rico</td>\n",
       "      <td>731.0</td>\n",
       "      <td>1050.000000</td>\n",
       "      <td>-0.437388</td>\n",
       "      <td>-0.286583</td>\n",
       "      <td>-0.394987</td>\n",
       "      <td>-0.022798</td>\n",
       "      <td>-0.150123</td>\n",
       "      <td>965</td>\n",
       "      <td>7</td>\n",
       "    </tr>\n",
       "    <tr>\n",
       "      <th>8</th>\n",
       "      <td>for_sale</td>\n",
       "      <td>100000.0</td>\n",
       "      <td>2.0</td>\n",
       "      <td>1.0</td>\n",
       "      <td>0.09</td>\n",
       "      <td>230 Rio De Vida, Ponce, PR, 00730</td>\n",
       "      <td>230 Rio De Vida</td>\n",
       "      <td>Ponce</td>\n",
       "      <td>Puerto Rico</td>\n",
       "      <td>730.0</td>\n",
       "      <td>1092.000000</td>\n",
       "      <td>-0.414401</td>\n",
       "      <td>-0.897402</td>\n",
       "      <td>-1.121307</td>\n",
       "      <td>-0.022788</td>\n",
       "      <td>-0.145108</td>\n",
       "      <td>965</td>\n",
       "      <td>7</td>\n",
       "    </tr>\n",
       "    <tr>\n",
       "      <th>9</th>\n",
       "      <td>for_sale</td>\n",
       "      <td>300000.0</td>\n",
       "      <td>5.0</td>\n",
       "      <td>3.0</td>\n",
       "      <td>7.46</td>\n",
       "      <td>Pr 120 Bo Maravilla Sur K M # 335, Las Marias,...</td>\n",
       "      <td>Pr 120 Bo Maravilla Sur K M # 335</td>\n",
       "      <td>Las Marias</td>\n",
       "      <td>Puerto Rico</td>\n",
       "      <td>670.0</td>\n",
       "      <td>5403.000000</td>\n",
       "      <td>-0.252524</td>\n",
       "      <td>0.935055</td>\n",
       "      <td>0.331332</td>\n",
       "      <td>-0.015839</td>\n",
       "      <td>0.369708</td>\n",
       "      <td>636</td>\n",
       "      <td>7</td>\n",
       "    </tr>\n",
       "    <tr>\n",
       "      <th>10</th>\n",
       "      <td>for_sale</td>\n",
       "      <td>89000.0</td>\n",
       "      <td>3.0</td>\n",
       "      <td>2.0</td>\n",
       "      <td>13.39</td>\n",
       "      <td>Km 3 4 Solar 457 Sr # 1, Isabela, PR, 00662</td>\n",
       "      <td>Km 3 4 Solar 457 Sr # 1</td>\n",
       "      <td>Isabela</td>\n",
       "      <td>Puerto Rico</td>\n",
       "      <td>662.0</td>\n",
       "      <td>1106.000000</td>\n",
       "      <td>-0.423304</td>\n",
       "      <td>-0.286583</td>\n",
       "      <td>-0.394987</td>\n",
       "      <td>-0.010247</td>\n",
       "      <td>-0.143436</td>\n",
       "      <td>580</td>\n",
       "      <td>7</td>\n",
       "    </tr>\n",
       "    <tr>\n",
       "      <th>11</th>\n",
       "      <td>for_sale</td>\n",
       "      <td>150000.0</td>\n",
       "      <td>3.0</td>\n",
       "      <td>2.0</td>\n",
       "      <td>0.08</td>\n",
       "      <td>91 Del Rio, Juana Diaz, PR, 00795</td>\n",
       "      <td>91 Del Rio</td>\n",
       "      <td>Juana Diaz</td>\n",
       "      <td>Puerto Rico</td>\n",
       "      <td>795.0</td>\n",
       "      <td>1045.000000</td>\n",
       "      <td>-0.373932</td>\n",
       "      <td>-0.286583</td>\n",
       "      <td>-0.394987</td>\n",
       "      <td>-0.022798</td>\n",
       "      <td>-0.150720</td>\n",
       "      <td>602</td>\n",
       "      <td>7</td>\n",
       "    </tr>\n",
       "    <tr>\n",
       "      <th>12</th>\n",
       "      <td>for_sale</td>\n",
       "      <td>155000.0</td>\n",
       "      <td>3.0</td>\n",
       "      <td>2.0</td>\n",
       "      <td>0.10</td>\n",
       "      <td>Pr, Lares, PR, 00669</td>\n",
       "      <td>Pr</td>\n",
       "      <td>Lares</td>\n",
       "      <td>Puerto Rico</td>\n",
       "      <td>669.0</td>\n",
       "      <td>4161.000000</td>\n",
       "      <td>-0.369885</td>\n",
       "      <td>-0.286583</td>\n",
       "      <td>-0.394987</td>\n",
       "      <td>-0.022779</td>\n",
       "      <td>0.221389</td>\n",
       "      <td>635</td>\n",
       "      <td>7</td>\n",
       "    </tr>\n",
       "    <tr>\n",
       "      <th>13</th>\n",
       "      <td>for_sale</td>\n",
       "      <td>79000.0</td>\n",
       "      <td>5.0</td>\n",
       "      <td>2.0</td>\n",
       "      <td>0.12</td>\n",
       "      <td>90 # A10, Utuado, PR, 00641</td>\n",
       "      <td>90 # A10</td>\n",
       "      <td>Utuado</td>\n",
       "      <td>Puerto Rico</td>\n",
       "      <td>641.0</td>\n",
       "      <td>1620.000000</td>\n",
       "      <td>-0.431398</td>\n",
       "      <td>0.935055</td>\n",
       "      <td>-0.394987</td>\n",
       "      <td>-0.022760</td>\n",
       "      <td>-0.082054</td>\n",
       "      <td>1247</td>\n",
       "      <td>7</td>\n",
       "    </tr>\n",
       "    <tr>\n",
       "      <th>14</th>\n",
       "      <td>for_sale</td>\n",
       "      <td>649000.0</td>\n",
       "      <td>5.0</td>\n",
       "      <td>5.0</td>\n",
       "      <td>0.74</td>\n",
       "      <td>F118 Madrid St El Monte Iv Ext # Dev, Ponce, P...</td>\n",
       "      <td>F118 Madrid St El Monte Iv Ext # Dev</td>\n",
       "      <td>Ponce</td>\n",
       "      <td>Puerto Rico</td>\n",
       "      <td>731.0</td>\n",
       "      <td>2677.000000</td>\n",
       "      <td>0.029950</td>\n",
       "      <td>0.935055</td>\n",
       "      <td>1.783971</td>\n",
       "      <td>-0.022175</td>\n",
       "      <td>0.044172</td>\n",
       "      <td>965</td>\n",
       "      <td>7</td>\n",
       "    </tr>\n",
       "    <tr>\n",
       "      <th>15</th>\n",
       "      <td>for_sale</td>\n",
       "      <td>120000.0</td>\n",
       "      <td>3.0</td>\n",
       "      <td>2.0</td>\n",
       "      <td>0.08</td>\n",
       "      <td>10-K Alejandrina St, Yauco, PR, 00698</td>\n",
       "      <td>10-K Alejandrina St</td>\n",
       "      <td>Yauco</td>\n",
       "      <td>Puerto Rico</td>\n",
       "      <td>698.0</td>\n",
       "      <td>1100.000000</td>\n",
       "      <td>-0.398213</td>\n",
       "      <td>-0.286583</td>\n",
       "      <td>-0.394987</td>\n",
       "      <td>-0.022798</td>\n",
       "      <td>-0.144152</td>\n",
       "      <td>1407</td>\n",
       "      <td>7</td>\n",
       "    </tr>\n",
       "    <tr>\n",
       "      <th>16</th>\n",
       "      <td>for_sale</td>\n",
       "      <td>235000.0</td>\n",
       "      <td>4.0</td>\n",
       "      <td>4.0</td>\n",
       "      <td>0.22</td>\n",
       "      <td>10 Calle Carrau # 3351, Mayaguez, PR, 00680</td>\n",
       "      <td>10 Calle Carrau # 3351</td>\n",
       "      <td>Mayaguez</td>\n",
       "      <td>Puerto Rico</td>\n",
       "      <td>680.0</td>\n",
       "      <td>3450.000000</td>\n",
       "      <td>-0.305134</td>\n",
       "      <td>0.324236</td>\n",
       "      <td>1.057651</td>\n",
       "      <td>-0.022665</td>\n",
       "      <td>0.136483</td>\n",
       "      <td>720</td>\n",
       "      <td>7</td>\n",
       "    </tr>\n",
       "    <tr>\n",
       "      <th>17</th>\n",
       "      <td>for_sale</td>\n",
       "      <td>105000.0</td>\n",
       "      <td>3.0</td>\n",
       "      <td>2.0</td>\n",
       "      <td>0.08</td>\n",
       "      <td>DD18 Calle 28, Ponce, PR, 00728</td>\n",
       "      <td>DD18 Calle 28</td>\n",
       "      <td>Ponce</td>\n",
       "      <td>Puerto Rico</td>\n",
       "      <td>728.0</td>\n",
       "      <td>1500.000000</td>\n",
       "      <td>-0.410354</td>\n",
       "      <td>-0.286583</td>\n",
       "      <td>-0.394987</td>\n",
       "      <td>-0.022798</td>\n",
       "      <td>-0.096385</td>\n",
       "      <td>965</td>\n",
       "      <td>7</td>\n",
       "    </tr>\n",
       "    <tr>\n",
       "      <th>18</th>\n",
       "      <td>for_sale</td>\n",
       "      <td>575000.0</td>\n",
       "      <td>3.0</td>\n",
       "      <td>2.0</td>\n",
       "      <td>3.88</td>\n",
       "      <td>5.8 Carr 435 Km # 58, San Sebastian, PR, 00685</td>\n",
       "      <td>5.8 Carr 435 Km # 58</td>\n",
       "      <td>San Sebastian</td>\n",
       "      <td>Puerto Rico</td>\n",
       "      <td>685.0</td>\n",
       "      <td>4000.000000</td>\n",
       "      <td>-0.029944</td>\n",
       "      <td>-0.286583</td>\n",
       "      <td>-0.394987</td>\n",
       "      <td>-0.019214</td>\n",
       "      <td>0.202163</td>\n",
       "      <td>1057</td>\n",
       "      <td>7</td>\n",
       "    </tr>\n",
       "    <tr>\n",
       "      <th>19</th>\n",
       "      <td>for_sale</td>\n",
       "      <td>140000.0</td>\n",
       "      <td>6.0</td>\n",
       "      <td>3.0</td>\n",
       "      <td>0.25</td>\n",
       "      <td>1 Bo Corcovada, Anasco, PR, 00610</td>\n",
       "      <td>1 Bo Corcovada</td>\n",
       "      <td>Anasco</td>\n",
       "      <td>Puerto Rico</td>\n",
       "      <td>610.0</td>\n",
       "      <td>1230.000000</td>\n",
       "      <td>-0.382026</td>\n",
       "      <td>1.545874</td>\n",
       "      <td>0.331332</td>\n",
       "      <td>-0.022637</td>\n",
       "      <td>-0.128628</td>\n",
       "      <td>31</td>\n",
       "      <td>7</td>\n",
       "    </tr>\n",
       "  </tbody>\n",
       "</table>\n",
       "</div>"
      ],
      "text/plain": [
       "      status     price  bed  bath  acre_lot  \\\n",
       "0   for_sale  105000.0  3.0   2.0      0.12   \n",
       "1   for_sale   80000.0  4.0   2.0      0.08   \n",
       "2   for_sale   67000.0  2.0   1.0      0.15   \n",
       "3   for_sale  145000.0  4.0   2.0      0.10   \n",
       "4   for_sale   65000.0  6.0   2.0      0.05   \n",
       "5   for_sale  179000.0  4.0   3.0      0.46   \n",
       "6   for_sale   50000.0  3.0   1.0      0.20   \n",
       "7   for_sale   71600.0  3.0   2.0      0.08   \n",
       "8   for_sale  100000.0  2.0   1.0      0.09   \n",
       "9   for_sale  300000.0  5.0   3.0      7.46   \n",
       "10  for_sale   89000.0  3.0   2.0     13.39   \n",
       "11  for_sale  150000.0  3.0   2.0      0.08   \n",
       "12  for_sale  155000.0  3.0   2.0      0.10   \n",
       "13  for_sale   79000.0  5.0   2.0      0.12   \n",
       "14  for_sale  649000.0  5.0   5.0      0.74   \n",
       "15  for_sale  120000.0  3.0   2.0      0.08   \n",
       "16  for_sale  235000.0  4.0   4.0      0.22   \n",
       "17  for_sale  105000.0  3.0   2.0      0.08   \n",
       "18  for_sale  575000.0  3.0   2.0      3.88   \n",
       "19  for_sale  140000.0  6.0   3.0      0.25   \n",
       "\n",
       "                                         full_address  \\\n",
       "0   Sector Yahuecas Titulo # V84, Adjuntas, PR, 00601   \n",
       "1             Km 78 9 Carr # 135, Adjuntas, PR, 00601   \n",
       "2             556G 556-G 16 St, Juana Diaz, PR, 00795   \n",
       "3   R5 Comunidad El Paraso Calle De Oro R-5 Ponce,...   \n",
       "4                     14 Navarro, Mayaguez, PR, 00680   \n",
       "5   Bo Calabazas San Sebastian, San Sebastian, PR,...   \n",
       "6                         49.1 140, Ciales, PR, 00639   \n",
       "7                           3467 St, Ponce, PR, 00731   \n",
       "8                   230 Rio De Vida, Ponce, PR, 00730   \n",
       "9   Pr 120 Bo Maravilla Sur K M # 335, Las Marias,...   \n",
       "10        Km 3 4 Solar 457 Sr # 1, Isabela, PR, 00662   \n",
       "11                  91 Del Rio, Juana Diaz, PR, 00795   \n",
       "12                               Pr, Lares, PR, 00669   \n",
       "13                        90 # A10, Utuado, PR, 00641   \n",
       "14  F118 Madrid St El Monte Iv Ext # Dev, Ponce, P...   \n",
       "15              10-K Alejandrina St, Yauco, PR, 00698   \n",
       "16        10 Calle Carrau # 3351, Mayaguez, PR, 00680   \n",
       "17                    DD18 Calle 28, Ponce, PR, 00728   \n",
       "18     5.8 Carr 435 Km # 58, San Sebastian, PR, 00685   \n",
       "19                  1 Bo Corcovada, Anasco, PR, 00610   \n",
       "\n",
       "                                           street           city        state  \\\n",
       "0                    Sector Yahuecas Titulo # V84       Adjuntas  Puerto Rico   \n",
       "1                              Km 78 9 Carr # 135       Adjuntas  Puerto Rico   \n",
       "2                                556G 556-G 16 St     Juana Diaz  Puerto Rico   \n",
       "3   R5 Comunidad El Paraso Calle De Oro R-5 Ponce          Ponce  Puerto Rico   \n",
       "4                                      14 Navarro       Mayaguez  Puerto Rico   \n",
       "5                      Bo Calabazas San Sebastian  San Sebastian  Puerto Rico   \n",
       "6                                        49.1 140         Ciales  Puerto Rico   \n",
       "7                                         3467 St          Ponce  Puerto Rico   \n",
       "8                                 230 Rio De Vida          Ponce  Puerto Rico   \n",
       "9               Pr 120 Bo Maravilla Sur K M # 335     Las Marias  Puerto Rico   \n",
       "10                        Km 3 4 Solar 457 Sr # 1        Isabela  Puerto Rico   \n",
       "11                                     91 Del Rio     Juana Diaz  Puerto Rico   \n",
       "12                                             Pr          Lares  Puerto Rico   \n",
       "13                                       90 # A10         Utuado  Puerto Rico   \n",
       "14           F118 Madrid St El Monte Iv Ext # Dev          Ponce  Puerto Rico   \n",
       "15                            10-K Alejandrina St          Yauco  Puerto Rico   \n",
       "16                         10 Calle Carrau # 3351       Mayaguez  Puerto Rico   \n",
       "17                                  DD18 Calle 28          Ponce  Puerto Rico   \n",
       "18                           5.8 Carr 435 Km # 58  San Sebastian  Puerto Rico   \n",
       "19                                 1 Bo Corcovada         Anasco  Puerto Rico   \n",
       "\n",
       "    zip_code   house_size  price_std   bed_std  bath_std  acre_lot_std  \\\n",
       "0      601.0   920.000000  -0.410354 -0.286583 -0.394987     -0.022760   \n",
       "1      601.0  1527.000000  -0.430589  0.324236 -0.394987     -0.022798   \n",
       "2      795.0   748.000000  -0.441111 -0.897402 -1.121307     -0.022731   \n",
       "3      731.0  1800.000000  -0.377979  0.324236 -0.394987     -0.022779   \n",
       "4      680.0  2004.533333  -0.442730  1.545874 -0.394987     -0.022826   \n",
       "5      612.0  2520.000000  -0.350460  0.324236  0.331332     -0.022439   \n",
       "6      639.0  2040.000000  -0.454870 -0.286583 -1.121307     -0.022684   \n",
       "7      731.0  1050.000000  -0.437388 -0.286583 -0.394987     -0.022798   \n",
       "8      730.0  1092.000000  -0.414401 -0.897402 -1.121307     -0.022788   \n",
       "9      670.0  5403.000000  -0.252524  0.935055  0.331332     -0.015839   \n",
       "10     662.0  1106.000000  -0.423304 -0.286583 -0.394987     -0.010247   \n",
       "11     795.0  1045.000000  -0.373932 -0.286583 -0.394987     -0.022798   \n",
       "12     669.0  4161.000000  -0.369885 -0.286583 -0.394987     -0.022779   \n",
       "13     641.0  1620.000000  -0.431398  0.935055 -0.394987     -0.022760   \n",
       "14     731.0  2677.000000   0.029950  0.935055  1.783971     -0.022175   \n",
       "15     698.0  1100.000000  -0.398213 -0.286583 -0.394987     -0.022798   \n",
       "16     680.0  3450.000000  -0.305134  0.324236  1.057651     -0.022665   \n",
       "17     728.0  1500.000000  -0.410354 -0.286583 -0.394987     -0.022798   \n",
       "18     685.0  4000.000000  -0.029944 -0.286583 -0.394987     -0.019214   \n",
       "19     610.0  1230.000000  -0.382026  1.545874  0.331332     -0.022637   \n",
       "\n",
       "    house_size_std  cityEnc  stateEnc  \n",
       "0        -0.165648        8         7  \n",
       "1        -0.093160        8         7  \n",
       "2        -0.186188      602         7  \n",
       "3        -0.060559      965         7  \n",
       "4        -0.036134      720         7  \n",
       "5         0.025423     1057         7  \n",
       "6        -0.031898      245         7  \n",
       "7        -0.150123      965         7  \n",
       "8        -0.145108      965         7  \n",
       "9         0.369708      636         7  \n",
       "10       -0.143436      580         7  \n",
       "11       -0.150720      602         7  \n",
       "12        0.221389      635         7  \n",
       "13       -0.082054     1247         7  \n",
       "14        0.044172      965         7  \n",
       "15       -0.144152     1407         7  \n",
       "16        0.136483      720         7  \n",
       "17       -0.096385      965         7  \n",
       "18        0.202163     1057         7  \n",
       "19       -0.128628       31         7  "
      ]
     },
     "execution_count": 35,
     "metadata": {},
     "output_type": "execute_result"
    }
   ],
   "source": [
    "house.head(20)"
   ]
  },
  {
   "cell_type": "markdown",
   "id": "81684632",
   "metadata": {},
   "source": [
    "# Data Visualization"
   ]
  },
  {
   "cell_type": "code",
   "execution_count": 36,
   "id": "040327d1",
   "metadata": {
    "scrolled": false
   },
   "outputs": [
    {
     "data": {
      "text/plain": [
       "Text(0.5, 1.0, 'No. of Houses per State')"
      ]
     },
     "execution_count": 36,
     "metadata": {},
     "output_type": "execute_result"
    },
    {
     "data": {
      "image/png": "[encoded data removed]",
      "text/plain": [
       "<Figure size 1296x576 with 1 Axes>"
      ]
     },
     "metadata": {
      "needs_background": "light"
     },
     "output_type": "display_data"
    }
   ],
   "source": [
    "#Count of each state\n",
    "fig = plt.figure(figsize = (18, 8))\n",
    "sns.countplot(x=\"state\", data=house)\n",
    "house.loc[:,'state'].value_counts()\n",
    "plt.title(\"No. of Houses per State\")"
   ]
  },
  {
   "cell_type": "code",
   "execution_count": 37,
   "id": "10d54c2c",
   "metadata": {},
   "outputs": [
    {
     "data": {
      "text/plain": [
       "Text(0.5, 1.0, 'The relation between number of Beds and price')"
      ]
     },
     "execution_count": 37,
     "metadata": {},
     "output_type": "execute_result"
    },
    {
     "data": {
      "image/png": "[encoded data removed]",
      "text/plain": [
       "<Figure size 1080x576 with 1 Axes>"
      ]
     },
     "metadata": {
      "needs_background": "light"
     },
     "output_type": "display_data"
    }
   ],
   "source": [
    "#Scatter plot between between number of beds and price\n",
    "\n",
    "plt.figure(figsize=(15,8))\n",
    "\n",
    "sns.scatterplot(data=house,x=\"bed\",y=\"price\",hue= 'state')\n",
    "plt.title(\"The relation between number of Beds and price\")"
   ]
  },
  {
   "cell_type": "code",
   "execution_count": 38,
   "id": "bf3d45f7",
   "metadata": {},
   "outputs": [
    {
     "data": {
      "text/plain": [
       "Text(0.5, 1.0, 'The relation between number of Bathrooms and price')"
      ]
     },
     "execution_count": 38,
     "metadata": {},
     "output_type": "execute_result"
    },
    {
     "data": {
      "image/png": "[encoded data removed]",
      "text/plain": [
       "<Figure size 864x504 with 1 Axes>"
      ]
     },
     "metadata": {
      "needs_background": "light"
     },
     "output_type": "display_data"
    }
   ],
   "source": [
    "# Scatter plot between number of bathrooms and price \n",
    "\n",
    "plt.figure(figsize=(12,7))\n",
    "\n",
    "sns.scatterplot(data=house,x=\"bath\",y=\"price\",hue='state')\n",
    "plt.title(\"The relation between number of Bathrooms and price\")"
   ]
  },
  {
   "cell_type": "code",
   "execution_count": 39,
   "id": "b8ec4b79",
   "metadata": {},
   "outputs": [
    {
     "data": {
      "text/plain": [
       "Text(0.5, 1.0, 'The relation between number of House size and price')"
      ]
     },
     "execution_count": 39,
     "metadata": {},
     "output_type": "execute_result"
    },
    {
     "data": {
      "image/png": "[encoded data removed]",
      "text/plain": [
       "<Figure size 864x504 with 1 Axes>"
      ]
     },
     "metadata": {
      "needs_background": "light"
     },
     "output_type": "display_data"
    }
   ],
   "source": [
    "# Scatter plot between house size and price\n",
    "\n",
    "plt.figure(figsize=(12,7))\n",
    "\n",
    "sns.scatterplot(data=house,x=\"house_size\",y=\"price\", hue= 'state')\n",
    "plt.title(\"The relation between number of House size and price\")"
   ]
  },
  {
   "cell_type": "code",
   "execution_count": 40,
   "id": "5c9eef44",
   "metadata": {},
   "outputs": [
    {
     "data": {
      "text/plain": [
       "Text(0.5, 1.0, 'The relation between number of Plot Size and price')"
      ]
     },
     "execution_count": 40,
     "metadata": {},
     "output_type": "execute_result"
    },
    {
     "data": {
      "image/png": "[encoded data removed]",
      "text/plain": [
       "<Figure size 864x504 with 1 Axes>"
      ]
     },
     "metadata": {
      "needs_background": "light"
     },
     "output_type": "display_data"
    }
   ],
   "source": [
    "# Scatter plot between acre lot and price\n",
    "\n",
    "plt.figure(figsize=(12,7))\n",
    "\n",
    "sns.scatterplot(data=house,x=\"acre_lot\",y=\"price\", hue= 'state')\n",
    "plt.title(\"The relation between number of Plot Size and price\")"
   ]
  },
  {
   "cell_type": "code",
   "execution_count": 41,
   "id": "79ef0945",
   "metadata": {},
   "outputs": [
    {
     "data": {
      "text/plain": [
       "Text(0.5, 1.0, 'Count of bathrooms')"
      ]
     },
     "execution_count": 41,
     "metadata": {},
     "output_type": "execute_result"
    },
    {
     "data": {
      "image/png": "[encoded data removed]",
      "text/plain": [
       "<Figure size 1080x576 with 1 Axes>"
      ]
     },
     "metadata": {
      "needs_background": "light"
     },
     "output_type": "display_data"
    }
   ],
   "source": [
    "# count of bathrooms\n",
    "fig = plt.figure(figsize = (15, 8))\n",
    "sns.countplot(x=\"bath\", data=house)\n",
    "house.loc[:,'bath'].value_counts()\n",
    "plt.title(\"Count of bathrooms\")"
   ]
  },
  {
   "cell_type": "code",
   "execution_count": 42,
   "id": "b33c91a7",
   "metadata": {},
   "outputs": [
    {
     "data": {
      "text/plain": [
       "Text(0.5, 1.0, 'Count of bedrooms')"
      ]
     },
     "execution_count": 42,
     "metadata": {},
     "output_type": "execute_result"
    },
    {
     "data": {
      "image/png": "[encoded data removed]",
      "text/plain": [
       "<Figure size 1080x576 with 1 Axes>"
      ]
     },
     "metadata": {
      "needs_background": "light"
     },
     "output_type": "display_data"
    }
   ],
   "source": [
    "# count of bedrooms\n",
    "fig = plt.figure(figsize = (15, 8))\n",
    "sns.countplot(x=\"bed\", data=house)\n",
    "house.loc[:,'bed'].value_counts()\n",
    "plt.title(\"Count of bedrooms\")"
   ]
  },
  {
   "cell_type": "code",
   "execution_count": 43,
   "id": "381e0352",
   "metadata": {},
   "outputs": [],
   "source": [
    "def plot_histogram(data):\n",
    "    \n",
    "    data.select_dtypes(include=[int, float]).hist(bins=50, figsize=(20,20), log=True, color = \"g\", edgecolor='black')\n",
    "    plt.show()"
   ]
  },
  {
   "cell_type": "code",
   "execution_count": 44,
   "id": "50fd45c3",
   "metadata": {},
   "outputs": [
    {
     "data": {
      "image/png": "[encoded data removed]",
      "text/plain": [
       "<Figure size 1440x1440 with 16 Axes>"
      ]
     },
     "metadata": {
      "needs_background": "light"
     },
     "output_type": "display_data"
    }
   ],
   "source": [
    "plot_histogram(house)"
   ]
  },
  {
   "cell_type": "code",
   "execution_count": 45,
   "id": "a8fe73ae",
   "metadata": {},
   "outputs": [
    {
     "data": {
      "text/plain": [
       "<AxesSubplot:title={'center':'Box plot of number of beds'}, xlabel='bed'>"
      ]
     },
     "execution_count": 45,
     "metadata": {},
     "output_type": "execute_result"
    },
    {
     "data": {
      "image/png": "[encoded data removed]",
      "text/plain": [
       "<Figure size 1080x576 with 1 Axes>"
      ]
     },
     "metadata": {
      "needs_background": "light"
     },
     "output_type": "display_data"
    }
   ],
   "source": [
    "# Box plot of beds\n",
    "\n",
    "plt.figure(figsize=(15,8))\n",
    "plt.title(\"Box plot of number of beds\")\n",
    "sns.boxplot(x=house[\"bed\"] )"
   ]
  },
  {
   "cell_type": "code",
   "execution_count": 46,
   "id": "9827dae1",
   "metadata": {},
   "outputs": [
    {
     "data": {
      "text/plain": [
       "<AxesSubplot:title={'center':'Box plot of baths'}, xlabel='bath'>"
      ]
     },
     "execution_count": 46,
     "metadata": {},
     "output_type": "execute_result"
    },
    {
     "data": {
      "image/png": "[encoded data removed]",
      "text/plain": [
       "<Figure size 1080x576 with 1 Axes>"
      ]
     },
     "metadata": {
      "needs_background": "light"
     },
     "output_type": "display_data"
    }
   ],
   "source": [
    "# Box plot of baths\n",
    "\n",
    "plt.figure(figsize=(15,8))\n",
    "plt.title(\"Box plot of baths\")\n",
    "sns.boxplot(x=house[\"bath\"] )"
   ]
  },
  {
   "cell_type": "code",
   "execution_count": 47,
   "id": "59a60754",
   "metadata": {},
   "outputs": [
    {
     "data": {
      "text/plain": [
       "<AxesSubplot:title={'center':'Box plot of house size'}, xlabel='house_size'>"
      ]
     },
     "execution_count": 47,
     "metadata": {},
     "output_type": "execute_result"
    },
    {
     "data": {
      "image/png": "[encoded data removed]",
      "text/plain": [
       "<Figure size 1080x576 with 1 Axes>"
      ]
     },
     "metadata": {
      "needs_background": "light"
     },
     "output_type": "display_data"
    }
   ],
   "source": [
    "# Box plot of house size\n",
    "\n",
    "plt.figure(figsize=(15,8))\n",
    "plt.title(\"Box plot of house size\")\n",
    "sns.boxplot(x=house[\"house_size\"] )"
   ]
  },
  {
   "cell_type": "code",
   "execution_count": 48,
   "id": "ab3b9b92",
   "metadata": {},
   "outputs": [
    {
     "data": {
      "text/plain": [
       "<AxesSubplot:title={'center':'Box plot of size of plot'}, xlabel='acre_lot'>"
      ]
     },
     "execution_count": 48,
     "metadata": {},
     "output_type": "execute_result"
    },
    {
     "data": {
      "image/png": "[encoded data removed]",
      "text/plain": [
       "<Figure size 1080x576 with 1 Axes>"
      ]
     },
     "metadata": {
      "needs_background": "light"
     },
     "output_type": "display_data"
    }
   ],
   "source": [
    "# Box plot of size of plot\n",
    "\n",
    "plt.figure(figsize=(15,8))\n",
    "plt.title(\"Box plot of size of plot\")\n",
    "sns.boxplot(x=house[\"acre_lot\"] )"
   ]
  },
  {
   "cell_type": "code",
   "execution_count": 49,
   "id": "9f28b19a",
   "metadata": {
    "scrolled": false
   },
   "outputs": [
    {
     "data": {
      "text/plain": [
       "Text(0.5, 1.0, 'Relationship between size of the plot and size of the house')"
      ]
     },
     "execution_count": 49,
     "metadata": {},
     "output_type": "execute_result"
    },
    {
     "data": {
      "image/png": "[encoded data removed]",
      "text/plain": [
       "<Figure size 1080x576 with 1 Axes>"
      ]
     },
     "metadata": {
      "needs_background": "light"
     },
     "output_type": "display_data"
    }
   ],
   "source": [
    "# Relationship between acre_lot and house_size\n",
    "\n",
    "\n",
    "plt.figure(figsize=(15,8))\n",
    "\n",
    "sns.scatterplot(data=house,x=\"acre_lot\",y=\"house_size\")\n",
    "plt.title(\"Relationship between size of the plot and size of the house\")"
   ]
  },
  {
   "cell_type": "code",
   "execution_count": 50,
   "id": "7c7b3d03",
   "metadata": {
    "scrolled": false
   },
   "outputs": [
    {
     "data": {
      "text/plain": [
       "<AxesSubplot:title={'center':'Statewise Price Comparison'}, xlabel='state', ylabel='price'>"
      ]
     },
     "execution_count": 50,
     "metadata": {},
     "output_type": "execute_result"
    },
    {
     "data": {
      "image/png": "[encoded data removed]",
      "text/plain": [
       "<Figure size 2160x2160 with 1 Axes>"
      ]
     },
     "metadata": {
      "needs_background": "light"
     },
     "output_type": "display_data"
    }
   ],
   "source": [
    "# Box plot of price per state\n",
    "plt.figure(figsize=(30,30))\n",
    "plt.title(\"Statewise Price Comparison\")\n",
    "sns.boxplot(data = house, x=\"state\", y=\"price\")\n",
    "\n"
   ]
  },
  {
   "cell_type": "markdown",
   "id": "6ed6998f",
   "metadata": {},
   "source": [
    "# Linear Regression"
   ]
  },
  {
   "cell_type": "code",
   "execution_count": null,
   "id": "a89330f4",
   "metadata": {},
   "outputs": [],
   "source": []
  },
  {
   "cell_type": "code",
   "execution_count": 51,
   "id": "7b30b1c2",
   "metadata": {},
   "outputs": [],
   "source": [
    "# Defining the x and y parameters for further regression analysis\n",
    "\n",
    "var = ['bed_std', 'bath_std','house_size_std','cityEnc','stateEnc','acre_lot_std']\n",
    "house_X = house[var]\n",
    "house_y = house['price_std']"
   ]
  },
  {
   "cell_type": "code",
   "execution_count": 52,
   "id": "748da175",
   "metadata": {},
   "outputs": [
    {
     "data": {
      "text/plain": [
       "((36387, 6), (36387,))"
      ]
     },
     "execution_count": 52,
     "metadata": {},
     "output_type": "execute_result"
    }
   ],
   "source": [
    "house_X.shape, house_y.shape"
   ]
  },
  {
   "cell_type": "code",
   "execution_count": 53,
   "id": "888b6a76",
   "metadata": {},
   "outputs": [],
   "source": [
    "X_train, X_test, y_train, y_test = train_test_split(house_X, house_y,     \n",
    "    test_size = 0.3, random_state = 42 )"
   ]
  },
  {
   "cell_type": "code",
   "execution_count": 54,
   "id": "b94389ad",
   "metadata": {},
   "outputs": [],
   "source": [
    "model = LinearRegression()"
   ]
  },
  {
   "cell_type": "code",
   "execution_count": 55,
   "id": "61432865",
   "metadata": {},
   "outputs": [
    {
     "data": {
      "text/plain": [
       "LinearRegression()"
      ]
     },
     "execution_count": 55,
     "metadata": {},
     "output_type": "execute_result"
    }
   ],
   "source": [
    "model.fit(X_train.values, y_train.values)"
   ]
  },
  {
   "cell_type": "code",
   "execution_count": 56,
   "id": "24433013",
   "metadata": {},
   "outputs": [
    {
     "name": "stdout",
     "output_type": "stream",
     "text": [
      "Coefficient of LR model : [-8.77594945e-02  5.10603695e-01  4.55286126e-02 -8.22758256e-05\n",
      "  2.23458932e-03  2.93018114e-02]\n"
     ]
    }
   ],
   "source": [
    "print(\"Coefficient of LR model :\", model.coef_) \n",
    "\n"
   ]
  },
  {
   "cell_type": "code",
   "execution_count": 57,
   "id": "74d2f81f",
   "metadata": {},
   "outputs": [
    {
     "name": "stdout",
     "output_type": "stream",
     "text": [
      "Intercept of LR model : 0.056011287588879195\n"
     ]
    }
   ],
   "source": [
    "print(\"Intercept of LR model :\", model.intercept_)"
   ]
  },
  {
   "cell_type": "code",
   "execution_count": 58,
   "id": "3a237928",
   "metadata": {},
   "outputs": [],
   "source": [
    "# Linear Regression model prediction \n",
    "\n",
    "y_pred = model.predict(X_test.values)"
   ]
  },
  {
   "cell_type": "code",
   "execution_count": 59,
   "id": "475e2406",
   "metadata": {},
   "outputs": [],
   "source": [
    "# Test set residual \n",
    "\n",
    "e = y_test - y_pred"
   ]
  },
  {
   "cell_type": "code",
   "execution_count": 60,
   "id": "a1e6306d",
   "metadata": {},
   "outputs": [
    {
     "name": "stdout",
     "output_type": "stream",
     "text": [
      "Mean Squared Error is 0.5946120642919731\n"
     ]
    }
   ],
   "source": [
    "# Mean squared error of the test set\n",
    "\n",
    "lr_mse_test = np.sum(np.square(e))/y_test.shape[0]\n",
    "print(\"Mean Squared Error is\",lr_mse_test)"
   ]
  },
  {
   "cell_type": "code",
   "execution_count": 61,
   "id": "f4739483",
   "metadata": {},
   "outputs": [
    {
     "name": "stdout",
     "output_type": "stream",
     "text": [
      "Mean Absolute Error is 0.38484401721729156\n"
     ]
    }
   ],
   "source": [
    "# Test set Mean absolute error\n",
    "\n",
    "lr_mae_test = np.sum(np.abs(e))/y_test.shape[0]\n",
    "print(\"Mean Absolute Error is\",lr_mae_test)"
   ]
  },
  {
   "cell_type": "code",
   "execution_count": 62,
   "id": "0c366c7d",
   "metadata": {},
   "outputs": [],
   "source": [
    "lr_r_2  = model.score(X_test.values, y_test.values)"
   ]
  },
  {
   "cell_type": "code",
   "execution_count": 63,
   "id": "136eb514",
   "metadata": {
    "scrolled": true
   },
   "outputs": [
    {
     "name": "stdout",
     "output_type": "stream",
     "text": [
      "R-Sqaured Linear Regression: 0.2307954186399206\n"
     ]
    }
   ],
   "source": [
    "# R-squared of the test set\n",
    "\n",
    "print(\"R-Sqaured Linear Regression:\",model.score(X_test.values, y_test.values))"
   ]
  },
  {
   "cell_type": "code",
   "execution_count": 64,
   "id": "4ad585ca",
   "metadata": {},
   "outputs": [],
   "source": [
    "lr_results = [lr_mse_test ,lr_r_2]"
   ]
  },
  {
   "cell_type": "code",
   "execution_count": 65,
   "id": "d5668eb9",
   "metadata": {},
   "outputs": [],
   "source": [
    "df_lr = pd.DataFrame({'Actual': y_test, 'Predicted': y_pred})"
   ]
  },
  {
   "cell_type": "code",
   "execution_count": 66,
   "id": "41fb7e27",
   "metadata": {},
   "outputs": [
    {
     "data": {
      "image/png": "[encoded data removed]",
      "text/plain": [
       "<Figure size 432x288 with 1 Axes>"
      ]
     },
     "metadata": {
      "needs_background": "light"
     },
     "output_type": "display_data"
    }
   ],
   "source": [
    "plt.scatter(e,y_pred)\n",
    "plt.title(\"Residual plot\")\n",
    "plt.xlabel(\"Residuals\")\n",
    "plt.ylabel(\"Predicted Values\")\n",
    "plt.show()"
   ]
  },
  {
   "cell_type": "markdown",
   "id": "59a61c2b",
   "metadata": {},
   "source": [
    "# Polynomial Regression"
   ]
  },
  {
   "cell_type": "code",
   "execution_count": 134,
   "id": "57c31be0",
   "metadata": {},
   "outputs": [
    {
     "data": {
      "text/plain": [
       "(-6.248335182590381e-13,\n",
       " array([ 1.76386790e-13, -4.16722646e-14,  3.06505985e-14, -7.69623817e-15,\n",
       "         1.46017123e-15,  1.00000000e+00, -1.21881811e-15,  1.63956598e-15,\n",
       "         1.29074466e-15,  1.52916267e-15,  1.58910444e-16, -1.48673432e-16,\n",
       "        -1.07023758e-14, -8.00187287e-16, -2.01188037e-15, -2.14575442e-16,\n",
       "        -3.54986225e-16, -8.74590070e-17,  1.10742824e-16,  4.13275377e-18,\n",
       "         1.13529124e-15, -2.34117250e-16, -8.86513392e-19, -3.85893499e-17,\n",
       "         1.48159614e-17,  1.37139609e-16, -2.02421923e-16,  1.10846885e-16]))"
      ]
     },
     "execution_count": 134,
     "metadata": {},
     "output_type": "execute_result"
    }
   ],
   "source": [
    "from sklearn.preprocessing import PolynomialFeatures\n",
    "from sklearn.linear_model import LinearRegression\n",
    "from sklearn.metrics import r2_score\n",
    "\n",
    "poly = PolynomialFeatures(degree = 2)\n",
    "\n",
    "\n",
    "X_train_poly = poly.fit_transform(X_train)\n",
    "X_test_poly = poly.fit_transform(X_test)\n",
    "\n",
    "lr = LinearRegression()\n",
    "lr.fit(X_train_poly, y_train)\n",
    "\n",
    "\n",
    "y_pred = lr.predict(X_test_poly)\n",
    "\n",
    "e = y_pred - y_test\n",
    "mse_poly = np.sum(e**2)/X_test.shape[0]\n",
    "\n",
    "\n",
    "lr.intercept_, lr.coef_"
   ]
  },
  {
   "cell_type": "code",
   "execution_count": 135,
   "id": "c2e4c485",
   "metadata": {},
   "outputs": [
    {
     "name": "stdout",
     "output_type": "stream",
     "text": [
      "R squared poly: 1.0\n"
     ]
    }
   ],
   "source": [
    "R2_poly = lr.score(X_test_poly, y_test)\n",
    "print('R squared poly:', R2_poly)"
   ]
  },
  {
   "cell_type": "code",
   "execution_count": 140,
   "id": "22b03bfe",
   "metadata": {},
   "outputs": [
    {
     "data": {
      "text/plain": [
       "[3.411641192720964e-26, 1.0]"
      ]
     },
     "execution_count": 140,
     "metadata": {},
     "output_type": "execute_result"
    }
   ],
   "source": [
    "poly_results = [mse_poly,R2_poly]\n",
    "poly_results"
   ]
  },
  {
   "cell_type": "markdown",
   "id": "a699b338",
   "metadata": {},
   "source": [
    "# Polynomial Regression Hyperparameter tunning"
   ]
  },
  {
   "cell_type": "code",
   "execution_count": 70,
   "id": "5cc1b7b2",
   "metadata": {},
   "outputs": [],
   "source": [
    "from sklearn.preprocessing import PolynomialFeatures\n",
    "from sklearn.pipeline import make_pipeline\n",
    "from sklearn.model_selection import GridSearchCV\n",
    "\n",
    "# Defining the grid of the parameter\n",
    "\n",
    "param_poly = {'polynomialfeatures__degree' : [3,4,5,6] }\n",
    "poly_cv = make_pipeline(PolynomialFeatures() , LinearRegression())\n",
    "\n",
    "# Defining GridSearchCV Estimation Function\n",
    "\n",
    "grid_poly = GridSearchCV(poly_cv,  param_poly, cv = 5)\n",
    "\n"
   ]
  },
  {
   "cell_type": "code",
   "execution_count": 71,
   "id": "5f2114fd",
   "metadata": {},
   "outputs": [
    {
     "data": {
      "text/plain": [
       "GridSearchCV(cv=5,\n",
       "             estimator=Pipeline(steps=[('polynomialfeatures',\n",
       "                                        PolynomialFeatures()),\n",
       "                                       ('linearregression',\n",
       "                                        LinearRegression())]),\n",
       "             param_grid={'polynomialfeatures__degree': [3, 4, 5, 6]})"
      ]
     },
     "execution_count": 71,
     "metadata": {},
     "output_type": "execute_result"
    }
   ],
   "source": [
    "# Training the model \n",
    "\n",
    "grid_poly.fit(X_train, y_train)"
   ]
  },
  {
   "cell_type": "code",
   "execution_count": 72,
   "id": "6307e39a",
   "metadata": {},
   "outputs": [],
   "source": [
    "# Predicting test set values \n",
    "\n",
    "y_pred_test = grid_poly.predict(X_test)"
   ]
  },
  {
   "cell_type": "code",
   "execution_count": 73,
   "id": "b008acba",
   "metadata": {},
   "outputs": [
    {
     "name": "stdout",
     "output_type": "stream",
     "text": [
      "Polynomial Regression intercept: -0.10724901883491723\n"
     ]
    }
   ],
   "source": [
    "print(\"Polynomial Regression intercept:\",grid_poly.best_estimator_.named_steps['linearregression'].intercept_)\n"
   ]
  },
  {
   "cell_type": "code",
   "execution_count": 74,
   "id": "11a411ae",
   "metadata": {},
   "outputs": [
    {
     "name": "stdout",
     "output_type": "stream",
     "text": [
      "Polynomial Regression Coefficient: [ 3.09132853e-07 -2.39358398e-01 -4.60930430e-03  2.41441668e+00\n",
      " -6.18658911e-04  1.61725870e-01 -1.36932815e+00  6.15204485e-02\n",
      " -1.41880701e-01  1.57624602e-01  3.55800226e-04 -1.47007584e-02\n",
      "  1.63081341e+00  1.34708244e-01  2.83122302e-01  1.73216698e-04\n",
      "  1.65456848e-01  1.04443700e+00 -2.28848514e-01 -3.78923308e-03\n",
      " -2.14664714e-01 -1.93654371e+01  8.53409692e-07 -7.28654810e-06\n",
      "  6.66227610e-03 -2.59728574e-02  3.97065386e-01 -1.95134162e-01\n",
      "  4.33299673e-03 -8.75807575e-03 -5.03874117e-02 -9.04022337e-05\n",
      "  1.80821535e-03  9.30807847e-02  1.43712028e-02  2.74584734e-02\n",
      "  8.53079150e-05  6.17054458e-04  5.47790046e-01 -2.30401538e-01\n",
      "  5.90729063e-04 -4.91719173e-02  4.38822961e+00 -3.95123008e-08\n",
      " -1.55447265e-05  2.40962830e-03  1.98969850e-03 -3.79728346e-01\n",
      " -1.30855357e+00 -1.04992565e-02  1.05635683e-04 -6.87415350e-05\n",
      " -2.06395455e-03 -3.43354296e-01  6.65349027e-02 -3.02312393e-04\n",
      "  5.61859591e-02 -2.08174801e-01 -8.50804915e-08 -2.00760145e-05\n",
      " -8.24484106e-04 -1.46338029e-02  1.48882020e-01  1.38262880e-01\n",
      " -7.69331938e-04  2.49578763e-04  3.95472063e-02  5.80236057e+00\n",
      "  2.54008833e-06  5.32675072e-05  2.63190250e-02  7.61205469e-03\n",
      "  6.19996006e-01 -6.68976940e-01 -2.95898500e-10 -4.39840937e-08\n",
      " -3.71421937e-06  7.85456272e-06 -5.12670733e-04  1.93133549e-04\n",
      "  8.03954271e-04  3.98653106e-02 -6.58781826e-02 -7.64333765e-03]\n"
     ]
    }
   ],
   "source": [
    "print(\"Polynomial Regression Coefficient:\",grid_poly.best_estimator_.named_steps['linearregression'].coef_)"
   ]
  },
  {
   "cell_type": "code",
   "execution_count": 75,
   "id": "bc79cdd2",
   "metadata": {
    "scrolled": true
   },
   "outputs": [
    {
     "name": "stdout",
     "output_type": "stream",
     "text": [
      "mse poly: 16120.690271442283\n",
      "R squared poly: -20853.115743927163\n"
     ]
    }
   ],
   "source": [
    "mse_tune_poly = np.sum((y_pred_test - y_test)**2)/y_pred_test.shape[0]\n",
    "print('mse poly:', mse_tune_poly)\n",
    "\n",
    "# Test set score \n",
    "\n",
    "R2_test_poly = grid_poly.score(X_test, y_test)\n",
    "print('R squared poly:', R2_test_poly)\n",
    "\n"
   ]
  },
  {
   "cell_type": "code",
   "execution_count": 76,
   "id": "d5c288e9",
   "metadata": {},
   "outputs": [
    {
     "data": {
      "text/plain": [
       "{'polynomialfeatures__degree': 3}"
      ]
     },
     "execution_count": 76,
     "metadata": {},
     "output_type": "execute_result"
    }
   ],
   "source": [
    "# The best choice of degree\n",
    "\n",
    "grid_poly.best_params_"
   ]
  },
  {
   "cell_type": "code",
   "execution_count": 77,
   "id": "0a2a53ac",
   "metadata": {},
   "outputs": [
    {
     "data": {
      "text/html": [
       "<div>\n",
       "<style scoped>\n",
       "    .dataframe tbody tr th:only-of-type {\n",
       "        vertical-align: middle;\n",
       "    }\n",
       "\n",
       "    .dataframe tbody tr th {\n",
       "        vertical-align: top;\n",
       "    }\n",
       "\n",
       "    .dataframe thead th {\n",
       "        text-align: right;\n",
       "    }\n",
       "</style>\n",
       "<table border=\"1\" class=\"dataframe\">\n",
       "  <thead>\n",
       "    <tr style=\"text-align: right;\">\n",
       "      <th></th>\n",
       "      <th>mean_fit_time</th>\n",
       "      <th>std_fit_time</th>\n",
       "      <th>mean_score_time</th>\n",
       "      <th>std_score_time</th>\n",
       "      <th>param_polynomialfeatures__degree</th>\n",
       "      <th>params</th>\n",
       "      <th>split0_test_score</th>\n",
       "      <th>split1_test_score</th>\n",
       "      <th>split2_test_score</th>\n",
       "      <th>split3_test_score</th>\n",
       "      <th>split4_test_score</th>\n",
       "      <th>mean_test_score</th>\n",
       "      <th>std_test_score</th>\n",
       "      <th>rank_test_score</th>\n",
       "    </tr>\n",
       "  </thead>\n",
       "  <tbody>\n",
       "    <tr>\n",
       "      <th>0</th>\n",
       "      <td>0.100729</td>\n",
       "      <td>0.000948</td>\n",
       "      <td>0.013030</td>\n",
       "      <td>0.000609</td>\n",
       "      <td>3</td>\n",
       "      <td>{'polynomialfeatures__degree': 3}</td>\n",
       "      <td>-1.578424e+06</td>\n",
       "      <td>-0.219737</td>\n",
       "      <td>-0.666951</td>\n",
       "      <td>-28.579985</td>\n",
       "      <td>-5.777224e+07</td>\n",
       "      <td>-1.187014e+07</td>\n",
       "      <td>2.295919e+07</td>\n",
       "      <td>1</td>\n",
       "    </tr>\n",
       "    <tr>\n",
       "      <th>1</th>\n",
       "      <td>0.277923</td>\n",
       "      <td>0.007300</td>\n",
       "      <td>0.022000</td>\n",
       "      <td>0.001673</td>\n",
       "      <td>4</td>\n",
       "      <td>{'polynomialfeatures__degree': 4}</td>\n",
       "      <td>-1.814538e+10</td>\n",
       "      <td>-13.728210</td>\n",
       "      <td>-32.568719</td>\n",
       "      <td>-19335.051255</td>\n",
       "      <td>-2.516123e+12</td>\n",
       "      <td>-5.068537e+11</td>\n",
       "      <td>1.004659e+12</td>\n",
       "      <td>2</td>\n",
       "    </tr>\n",
       "    <tr>\n",
       "      <th>2</th>\n",
       "      <td>0.743343</td>\n",
       "      <td>0.015665</td>\n",
       "      <td>0.037084</td>\n",
       "      <td>0.001312</td>\n",
       "      <td>5</td>\n",
       "      <td>{'polynomialfeatures__degree': 5}</td>\n",
       "      <td>-3.878222e+12</td>\n",
       "      <td>-7.712524</td>\n",
       "      <td>-283.892958</td>\n",
       "      <td>-185990.183806</td>\n",
       "      <td>-2.166137e+11</td>\n",
       "      <td>-8.189672e+11</td>\n",
       "      <td>1.531926e+12</td>\n",
       "      <td>4</td>\n",
       "    </tr>\n",
       "    <tr>\n",
       "      <th>3</th>\n",
       "      <td>1.985359</td>\n",
       "      <td>0.055844</td>\n",
       "      <td>0.076532</td>\n",
       "      <td>0.002862</td>\n",
       "      <td>6</td>\n",
       "      <td>{'polynomialfeatures__degree': 6}</td>\n",
       "      <td>-2.628696e+12</td>\n",
       "      <td>-21.511023</td>\n",
       "      <td>-488.459965</td>\n",
       "      <td>-631.973788</td>\n",
       "      <td>-4.365334e+10</td>\n",
       "      <td>-5.344699e+11</td>\n",
       "      <td>1.047250e+12</td>\n",
       "      <td>3</td>\n",
       "    </tr>\n",
       "  </tbody>\n",
       "</table>\n",
       "</div>"
      ],
      "text/plain": [
       "   mean_fit_time  std_fit_time  mean_score_time  std_score_time  \\\n",
       "0       0.100729      0.000948         0.013030        0.000609   \n",
       "1       0.277923      0.007300         0.022000        0.001673   \n",
       "2       0.743343      0.015665         0.037084        0.001312   \n",
       "3       1.985359      0.055844         0.076532        0.002862   \n",
       "\n",
       "  param_polynomialfeatures__degree                             params  \\\n",
       "0                                3  {'polynomialfeatures__degree': 3}   \n",
       "1                                4  {'polynomialfeatures__degree': 4}   \n",
       "2                                5  {'polynomialfeatures__degree': 5}   \n",
       "3                                6  {'polynomialfeatures__degree': 6}   \n",
       "\n",
       "   split0_test_score  split1_test_score  split2_test_score  split3_test_score  \\\n",
       "0      -1.578424e+06          -0.219737          -0.666951         -28.579985   \n",
       "1      -1.814538e+10         -13.728210         -32.568719      -19335.051255   \n",
       "2      -3.878222e+12          -7.712524        -283.892958     -185990.183806   \n",
       "3      -2.628696e+12         -21.511023        -488.459965        -631.973788   \n",
       "\n",
       "   split4_test_score  mean_test_score  std_test_score  rank_test_score  \n",
       "0      -5.777224e+07    -1.187014e+07    2.295919e+07                1  \n",
       "1      -2.516123e+12    -5.068537e+11    1.004659e+12                2  \n",
       "2      -2.166137e+11    -8.189672e+11    1.531926e+12                4  \n",
       "3      -4.365334e+10    -5.344699e+11    1.047250e+12                3  "
      ]
     },
     "execution_count": 77,
     "metadata": {},
     "output_type": "execute_result"
    }
   ],
   "source": [
    "grid_poly.cv_results_\n",
    "\n",
    "pd.DataFrame(grid_poly.cv_results_)"
   ]
  },
  {
   "cell_type": "code",
   "execution_count": 141,
   "id": "3d13232d",
   "metadata": {},
   "outputs": [
    {
     "data": {
      "text/plain": [
       "[3.411641192720964e-26, -20853.115743927163]"
      ]
     },
     "execution_count": 141,
     "metadata": {},
     "output_type": "execute_result"
    }
   ],
   "source": [
    "poly_tune_results = [mse_poly,R2_test_poly]\n",
    "poly_tune_results"
   ]
  },
  {
   "cell_type": "markdown",
   "id": "c16c9720",
   "metadata": {},
   "source": [
    "# Ridge Regression"
   ]
  },
  {
   "cell_type": "code",
   "execution_count": 79,
   "id": "91eb555f",
   "metadata": {},
   "outputs": [
    {
     "name": "stdout",
     "output_type": "stream",
     "text": [
      "mse ridge: 0.594610392054427\n",
      "R squared ridge: 0.23079758188694977\n"
     ]
    }
   ],
   "source": [
    "\n",
    "from sklearn.linear_model import Ridge\n",
    "\n",
    "\n",
    "ridge = Ridge()\n",
    "\n",
    "\n",
    "# train the model\n",
    "ridge.fit(X_train, y_train)\n",
    "\n",
    "\n",
    "y_pred_test = ridge.predict(X_test)\n",
    "\n",
    "mse_ridge = np.sum((y_pred_test - y_test)**2)/y_pred_test.shape[0]\n",
    "print('mse ridge:', mse_ridge)\n",
    "\n",
    "R2_test_ridge = ridge.score(X_test, y_test)\n",
    "print('R squared ridge:', R2_test_ridge)"
   ]
  },
  {
   "cell_type": "code",
   "execution_count": 80,
   "id": "60a9749a",
   "metadata": {},
   "outputs": [],
   "source": [
    "ridge_results = [mse_ridge,R2_test_ridge]"
   ]
  },
  {
   "cell_type": "markdown",
   "id": "538a3bf6",
   "metadata": {},
   "source": [
    "# Ridge Regression Hyperparameter Tunning"
   ]
  },
  {
   "cell_type": "code",
   "execution_count": 81,
   "id": "80ff0e53",
   "metadata": {},
   "outputs": [
    {
     "data": {
      "text/plain": [
       "GridSearchCV(cv=5, estimator=Ridge(),\n",
       "             param_grid={'alpha': [0.001, 0.01, 0.1, 10, 100, 1000, 10000,\n",
       "                                   1000000]})"
      ]
     },
     "execution_count": 81,
     "metadata": {},
     "output_type": "execute_result"
    }
   ],
   "source": [
    "from sklearn.linear_model import Ridge\n",
    "\n",
    "param_ridge = { 'alpha':  [0.001, 0.01, 0.1, 10,100,1000,10000,1000000]  }\n",
    "\n",
    "\n",
    "ridge = Ridge()\n",
    "grid_ridge = GridSearchCV(ridge, param_ridge, cv = 5 )\n",
    "grid_ridge.fit(X_train, y_train)\n",
    "\n",
    "\n"
   ]
  },
  {
   "cell_type": "code",
   "execution_count": 82,
   "id": "c1d53d84",
   "metadata": {},
   "outputs": [
    {
     "name": "stdout",
     "output_type": "stream",
     "text": [
      "Ridge regression Intercept: 0.052950234370983694\n"
     ]
    }
   ],
   "source": [
    "print(\"Ridge regression Intercept:\", grid_ridge.best_estimator_.intercept_)\n"
   ]
  },
  {
   "cell_type": "code",
   "execution_count": 83,
   "id": "8afd91a9",
   "metadata": {},
   "outputs": [
    {
     "name": "stdout",
     "output_type": "stream",
     "text": [
      "Ridge Regression Coefficient: [ 2.18997279e-02  3.15777903e-01  4.56377510e-02 -8.80030807e-05\n",
      "  4.07887832e-03  1.86546805e-02]\n"
     ]
    }
   ],
   "source": [
    "print(\"Ridge Regression Coefficient:\",grid_ridge.best_estimator_.coef_)"
   ]
  },
  {
   "cell_type": "code",
   "execution_count": 84,
   "id": "c95c9dfd",
   "metadata": {},
   "outputs": [],
   "source": [
    "# prediction on test\n",
    "y_pred_test = grid_ridge.predict(X_test)"
   ]
  },
  {
   "cell_type": "code",
   "execution_count": 85,
   "id": "1383c94e",
   "metadata": {},
   "outputs": [
    {
     "name": "stdout",
     "output_type": "stream",
     "text": [
      "mse tuned ridge: 0.594610392054427\n"
     ]
    }
   ],
   "source": [
    "mse_tune_ridge = np.sum((y_pred_test - y_test)**2)/y_pred_test.shape[0]\n",
    "print('mse tuned ridge:', mse_ridge)"
   ]
  },
  {
   "cell_type": "code",
   "execution_count": 86,
   "id": "b1c9ccf7",
   "metadata": {},
   "outputs": [
    {
     "name": "stdout",
     "output_type": "stream",
     "text": [
      "R squared ridge: 0.21505967943660886\n"
     ]
    }
   ],
   "source": [
    "R2_tune_ridge = grid_ridge.score(X_test, y_test)\n",
    "print('R squared ridge:', R2_tune_ridge)"
   ]
  },
  {
   "cell_type": "code",
   "execution_count": 87,
   "id": "9b48d54f",
   "metadata": {},
   "outputs": [
    {
     "data": {
      "text/plain": [
       "{'alpha': 10000}"
      ]
     },
     "execution_count": 87,
     "metadata": {},
     "output_type": "execute_result"
    }
   ],
   "source": [
    "# Best choice of alpha\n",
    "\n",
    "grid_ridge.best_params_"
   ]
  },
  {
   "cell_type": "code",
   "execution_count": 88,
   "id": "0bf03671",
   "metadata": {},
   "outputs": [
    {
     "data": {
      "text/plain": [
       "0.1739130695765483"
      ]
     },
     "execution_count": 88,
     "metadata": {},
     "output_type": "execute_result"
    }
   ],
   "source": [
    "grid_ridge.best_score_"
   ]
  },
  {
   "cell_type": "code",
   "execution_count": 89,
   "id": "10e87513",
   "metadata": {},
   "outputs": [],
   "source": [
    "ridge_tune_results = [mse_tune_ridge,R2_tune_ridge]"
   ]
  },
  {
   "cell_type": "markdown",
   "id": "f23d3a1a",
   "metadata": {},
   "source": [
    "# Lasso Regression"
   ]
  },
  {
   "cell_type": "code",
   "execution_count": 90,
   "id": "d6b1632d",
   "metadata": {},
   "outputs": [
    {
     "name": "stdout",
     "output_type": "stream",
     "text": [
      "mse lasso: 0.7716390275118352\n",
      "R squared lasso: 0.0017890474100954457\n"
     ]
    }
   ],
   "source": [
    "from sklearn.linear_model import Lasso\n",
    "\n",
    "my_lasso = Lasso()\n",
    "\n",
    "my_lasso.fit(X_train, y_train)\n",
    "\n",
    "y_pred_test_lasso = my_lasso.predict(X_test)\n",
    "\n",
    "mse_lasso = np.sum((y_pred_test_lasso - y_test)**2)/y_pred_test_lasso.shape[0]\n",
    "print('mse lasso:', mse_lasso)\n",
    "\n",
    "R2_test_lasso = my_lasso.score(X_test, y_test)\n",
    "print('R squared lasso:', R2_test_lasso)"
   ]
  },
  {
   "cell_type": "code",
   "execution_count": 91,
   "id": "5a5b94e8",
   "metadata": {},
   "outputs": [],
   "source": [
    "lasso_results = [mse_lasso,R2_test_lasso]"
   ]
  },
  {
   "cell_type": "markdown",
   "id": "8f7a2712",
   "metadata": {},
   "source": [
    "# Lasso Regression Hyper parameter tunning"
   ]
  },
  {
   "cell_type": "code",
   "execution_count": 92,
   "id": "f4312c9f",
   "metadata": {},
   "outputs": [
    {
     "data": {
      "text/plain": [
       "GridSearchCV(cv=5, estimator=Lasso(),\n",
       "             param_grid={'alpha': [0.001, 0.01, 0.1, 10, 100, 1000, 10000,\n",
       "                                   1000000]})"
      ]
     },
     "execution_count": 92,
     "metadata": {},
     "output_type": "execute_result"
    }
   ],
   "source": [
    "from sklearn.linear_model import Lasso\n",
    "\n",
    "param_lasso = { 'alpha':  [0.001, 0.01, 0.1, 10,100]  }\n",
    "lasso = Lasso()\n",
    "grid_lasso = GridSearchCV(lasso, param_ridge, cv = 5 )\n",
    "grid_lasso.fit(X_train, y_train)"
   ]
  },
  {
   "cell_type": "code",
   "execution_count": 93,
   "id": "327e3471",
   "metadata": {},
   "outputs": [
    {
     "data": {
      "text/plain": [
       "{'alpha': 0.1}"
      ]
     },
     "execution_count": 93,
     "metadata": {},
     "output_type": "execute_result"
    }
   ],
   "source": [
    "# Best alpha value for Lasso Regression \n",
    "grid_lasso.best_params_"
   ]
  },
  {
   "cell_type": "code",
   "execution_count": 94,
   "id": "c5a116e0",
   "metadata": {},
   "outputs": [
    {
     "data": {
      "text/html": [
       "<div>\n",
       "<style scoped>\n",
       "    .dataframe tbody tr th:only-of-type {\n",
       "        vertical-align: middle;\n",
       "    }\n",
       "\n",
       "    .dataframe tbody tr th {\n",
       "        vertical-align: top;\n",
       "    }\n",
       "\n",
       "    .dataframe thead th {\n",
       "        text-align: right;\n",
       "    }\n",
       "</style>\n",
       "<table border=\"1\" class=\"dataframe\">\n",
       "  <thead>\n",
       "    <tr style=\"text-align: right;\">\n",
       "      <th></th>\n",
       "      <th>mean_fit_time</th>\n",
       "      <th>std_fit_time</th>\n",
       "      <th>mean_score_time</th>\n",
       "      <th>std_score_time</th>\n",
       "      <th>param_alpha</th>\n",
       "      <th>params</th>\n",
       "      <th>split0_test_score</th>\n",
       "      <th>split1_test_score</th>\n",
       "      <th>split2_test_score</th>\n",
       "      <th>split3_test_score</th>\n",
       "      <th>split4_test_score</th>\n",
       "      <th>mean_test_score</th>\n",
       "      <th>std_test_score</th>\n",
       "      <th>rank_test_score</th>\n",
       "    </tr>\n",
       "  </thead>\n",
       "  <tbody>\n",
       "    <tr>\n",
       "      <th>0</th>\n",
       "      <td>0.009612</td>\n",
       "      <td>0.000555</td>\n",
       "      <td>0.003768</td>\n",
       "      <td>0.000608</td>\n",
       "      <td>0.001</td>\n",
       "      <td>{'alpha': 0.001}</td>\n",
       "      <td>-0.194916</td>\n",
       "      <td>0.157068</td>\n",
       "      <td>0.185122</td>\n",
       "      <td>0.243822</td>\n",
       "      <td>0.218818</td>\n",
       "      <td>0.121983</td>\n",
       "      <td>0.161161</td>\n",
       "      <td>3</td>\n",
       "    </tr>\n",
       "    <tr>\n",
       "      <th>1</th>\n",
       "      <td>0.008122</td>\n",
       "      <td>0.000807</td>\n",
       "      <td>0.002903</td>\n",
       "      <td>0.000660</td>\n",
       "      <td>0.01</td>\n",
       "      <td>{'alpha': 0.01}</td>\n",
       "      <td>0.010489</td>\n",
       "      <td>0.157992</td>\n",
       "      <td>0.182674</td>\n",
       "      <td>0.243344</td>\n",
       "      <td>0.217983</td>\n",
       "      <td>0.162497</td>\n",
       "      <td>0.081423</td>\n",
       "      <td>2</td>\n",
       "    </tr>\n",
       "    <tr>\n",
       "      <th>2</th>\n",
       "      <td>0.008287</td>\n",
       "      <td>0.000977</td>\n",
       "      <td>0.003081</td>\n",
       "      <td>0.000119</td>\n",
       "      <td>0.1</td>\n",
       "      <td>{'alpha': 0.1}</td>\n",
       "      <td>0.181398</td>\n",
       "      <td>0.149404</td>\n",
       "      <td>0.169588</td>\n",
       "      <td>0.218803</td>\n",
       "      <td>0.214364</td>\n",
       "      <td>0.186711</td>\n",
       "      <td>0.026487</td>\n",
       "      <td>1</td>\n",
       "    </tr>\n",
       "    <tr>\n",
       "      <th>3</th>\n",
       "      <td>0.008698</td>\n",
       "      <td>0.000381</td>\n",
       "      <td>0.003229</td>\n",
       "      <td>0.000310</td>\n",
       "      <td>10</td>\n",
       "      <td>{'alpha': 10}</td>\n",
       "      <td>0.000676</td>\n",
       "      <td>0.000247</td>\n",
       "      <td>0.000557</td>\n",
       "      <td>0.000511</td>\n",
       "      <td>0.000451</td>\n",
       "      <td>0.000488</td>\n",
       "      <td>0.000142</td>\n",
       "      <td>4</td>\n",
       "    </tr>\n",
       "    <tr>\n",
       "      <th>4</th>\n",
       "      <td>0.007620</td>\n",
       "      <td>0.000970</td>\n",
       "      <td>0.002924</td>\n",
       "      <td>0.000481</td>\n",
       "      <td>100</td>\n",
       "      <td>{'alpha': 100}</td>\n",
       "      <td>-0.000014</td>\n",
       "      <td>-0.000077</td>\n",
       "      <td>-0.000160</td>\n",
       "      <td>-0.000189</td>\n",
       "      <td>-0.000615</td>\n",
       "      <td>-0.000211</td>\n",
       "      <td>0.000211</td>\n",
       "      <td>5</td>\n",
       "    </tr>\n",
       "    <tr>\n",
       "      <th>5</th>\n",
       "      <td>0.008530</td>\n",
       "      <td>0.000362</td>\n",
       "      <td>0.003145</td>\n",
       "      <td>0.000433</td>\n",
       "      <td>1000</td>\n",
       "      <td>{'alpha': 1000}</td>\n",
       "      <td>-0.000014</td>\n",
       "      <td>-0.000077</td>\n",
       "      <td>-0.000160</td>\n",
       "      <td>-0.000189</td>\n",
       "      <td>-0.000615</td>\n",
       "      <td>-0.000211</td>\n",
       "      <td>0.000211</td>\n",
       "      <td>5</td>\n",
       "    </tr>\n",
       "    <tr>\n",
       "      <th>6</th>\n",
       "      <td>0.008773</td>\n",
       "      <td>0.000260</td>\n",
       "      <td>0.002931</td>\n",
       "      <td>0.000356</td>\n",
       "      <td>10000</td>\n",
       "      <td>{'alpha': 10000}</td>\n",
       "      <td>-0.000014</td>\n",
       "      <td>-0.000077</td>\n",
       "      <td>-0.000160</td>\n",
       "      <td>-0.000189</td>\n",
       "      <td>-0.000615</td>\n",
       "      <td>-0.000211</td>\n",
       "      <td>0.000211</td>\n",
       "      <td>5</td>\n",
       "    </tr>\n",
       "    <tr>\n",
       "      <th>7</th>\n",
       "      <td>0.008160</td>\n",
       "      <td>0.000729</td>\n",
       "      <td>0.003079</td>\n",
       "      <td>0.000158</td>\n",
       "      <td>1000000</td>\n",
       "      <td>{'alpha': 1000000}</td>\n",
       "      <td>-0.000014</td>\n",
       "      <td>-0.000077</td>\n",
       "      <td>-0.000160</td>\n",
       "      <td>-0.000189</td>\n",
       "      <td>-0.000615</td>\n",
       "      <td>-0.000211</td>\n",
       "      <td>0.000211</td>\n",
       "      <td>5</td>\n",
       "    </tr>\n",
       "  </tbody>\n",
       "</table>\n",
       "</div>"
      ],
      "text/plain": [
       "   mean_fit_time  std_fit_time  mean_score_time  std_score_time param_alpha  \\\n",
       "0       0.009612      0.000555         0.003768        0.000608       0.001   \n",
       "1       0.008122      0.000807         0.002903        0.000660        0.01   \n",
       "2       0.008287      0.000977         0.003081        0.000119         0.1   \n",
       "3       0.008698      0.000381         0.003229        0.000310          10   \n",
       "4       0.007620      0.000970         0.002924        0.000481         100   \n",
       "5       0.008530      0.000362         0.003145        0.000433        1000   \n",
       "6       0.008773      0.000260         0.002931        0.000356       10000   \n",
       "7       0.008160      0.000729         0.003079        0.000158     1000000   \n",
       "\n",
       "               params  split0_test_score  split1_test_score  \\\n",
       "0    {'alpha': 0.001}          -0.194916           0.157068   \n",
       "1     {'alpha': 0.01}           0.010489           0.157992   \n",
       "2      {'alpha': 0.1}           0.181398           0.149404   \n",
       "3       {'alpha': 10}           0.000676           0.000247   \n",
       "4      {'alpha': 100}          -0.000014          -0.000077   \n",
       "5     {'alpha': 1000}          -0.000014          -0.000077   \n",
       "6    {'alpha': 10000}          -0.000014          -0.000077   \n",
       "7  {'alpha': 1000000}          -0.000014          -0.000077   \n",
       "\n",
       "   split2_test_score  split3_test_score  split4_test_score  mean_test_score  \\\n",
       "0           0.185122           0.243822           0.218818         0.121983   \n",
       "1           0.182674           0.243344           0.217983         0.162497   \n",
       "2           0.169588           0.218803           0.214364         0.186711   \n",
       "3           0.000557           0.000511           0.000451         0.000488   \n",
       "4          -0.000160          -0.000189          -0.000615        -0.000211   \n",
       "5          -0.000160          -0.000189          -0.000615        -0.000211   \n",
       "6          -0.000160          -0.000189          -0.000615        -0.000211   \n",
       "7          -0.000160          -0.000189          -0.000615        -0.000211   \n",
       "\n",
       "   std_test_score  rank_test_score  \n",
       "0        0.161161                3  \n",
       "1        0.081423                2  \n",
       "2        0.026487                1  \n",
       "3        0.000142                4  \n",
       "4        0.000211                5  \n",
       "5        0.000211                5  \n",
       "6        0.000211                5  \n",
       "7        0.000211                5  "
      ]
     },
     "execution_count": 94,
     "metadata": {},
     "output_type": "execute_result"
    }
   ],
   "source": [
    "grid_lasso.cv_results_\n",
    "\n",
    "pd.DataFrame(grid_lasso.cv_results_)"
   ]
  },
  {
   "cell_type": "code",
   "execution_count": 95,
   "id": "b41b3ee2",
   "metadata": {},
   "outputs": [
    {
     "name": "stdout",
     "output_type": "stream",
     "text": [
      "Lasso Regression Intercept: 0.06783554932946373\n"
     ]
    }
   ],
   "source": [
    "print(\"Lasso Regression Intercept:\",grid_lasso.best_estimator_.intercept_)\n"
   ]
  },
  {
   "cell_type": "code",
   "execution_count": 96,
   "id": "9b2a1037",
   "metadata": {
    "scrolled": true
   },
   "outputs": [
    {
     "name": "stdout",
     "output_type": "stream",
     "text": [
      "Lasso Regression Coefficient: [ 0.00000000e+00  3.61545795e-01  0.00000000e+00 -8.69641891e-05\n",
      "  0.00000000e+00  0.00000000e+00]\n"
     ]
    }
   ],
   "source": [
    "print(\"Lasso Regression Coefficient:\",grid_lasso.best_estimator_.coef_)"
   ]
  },
  {
   "cell_type": "code",
   "execution_count": 97,
   "id": "011aba45",
   "metadata": {},
   "outputs": [],
   "source": [
    "y_pred_test = grid_lasso.predict(X_test)"
   ]
  },
  {
   "cell_type": "code",
   "execution_count": 98,
   "id": "bd038774",
   "metadata": {},
   "outputs": [
    {
     "name": "stdout",
     "output_type": "stream",
     "text": [
      "mse lasso: 0.7716390275118352\n"
     ]
    }
   ],
   "source": [
    "mse_tune_lasso = np.sum((y_pred_test - y_test)**2)/y_pred_test.shape[0]\n",
    "print('mse lasso:', mse_lasso)"
   ]
  },
  {
   "cell_type": "code",
   "execution_count": 99,
   "id": "81fec136",
   "metadata": {},
   "outputs": [
    {
     "name": "stdout",
     "output_type": "stream",
     "text": [
      "Model Performance 0.22268864790587684\n"
     ]
    }
   ],
   "source": [
    "# Final model performance on Test set\n",
    "print(\"Model Performance\",grid_lasso.score(X_test, y_test))"
   ]
  },
  {
   "cell_type": "code",
   "execution_count": 100,
   "id": "6d83e284",
   "metadata": {},
   "outputs": [],
   "source": [
    "R2_tune_lasso = grid_lasso.score(X_test, y_test)"
   ]
  },
  {
   "cell_type": "code",
   "execution_count": 101,
   "id": "615c2dc8",
   "metadata": {},
   "outputs": [],
   "source": [
    "lasso_tune_results = [mse_tune_lasso,R2_tune_lasso]"
   ]
  },
  {
   "cell_type": "code",
   "execution_count": 102,
   "id": "6d24d830",
   "metadata": {},
   "outputs": [
    {
     "name": "stdout",
     "output_type": "stream",
     "text": [
      "+-------------------+----------+-----------------+\n",
      "|                   |     RMSE |        R2_Score |\n",
      "|-------------------+----------+-----------------|\n",
      "| LassoTune         | 0.600879 |      0.222689   |\n",
      "| Lasso             | 0.771639 |      0.00178905 |\n",
      "| Ridge             | 0.59461  |      0.230798   |\n",
      "| RidgeTune         | 0.606776 |      0.21506    |\n",
      "| Polynomial        | 9.06195  |    -10.7228     |\n",
      "| PolynomialTune    | 9.06195  | -20853.1        |\n",
      "| Linear Regression | 0.594612 |      0.230795   |\n",
      "+-------------------+----------+-----------------+\n"
     ]
    }
   ],
   "source": [
    "# showing all models result\n",
    "dic = {\n",
    "    'Metrics':['RMSE','R2_Score'],\n",
    "    'LassoTune':lasso_tune_results,\n",
    "    'Lasso': lasso_results,\n",
    "    'Ridge': ridge_results,\n",
    "    'RidgeTune':ridge_tune_results,\n",
    "    'Polynomial': poly_results,\n",
    "    'PolynomialTune':poly_tune_results,\n",
    "    'Linear Regression':lr_results\n",
    "    \n",
    "    \n",
    "}\n",
    "metrics_df = pd.DataFrame(dic)\n",
    "\n",
    "metrics_df1 = metrics_df.set_index('Metrics')\n",
    "# displaying the DataFrame\n",
    "print(tabulate(metrics_df1.T, headers = 'keys', tablefmt = 'psql'))"
   ]
  },
  {
   "cell_type": "code",
   "execution_count": 103,
   "id": "3c91b2d4",
   "metadata": {},
   "outputs": [
    {
     "data": {
      "text/plain": [
       "['R2_Score',\n",
       " 0.22268864790587684,\n",
       " 0.0017890474100954457,\n",
       " 0.23079758188694977,\n",
       " 0.21505967943660886,\n",
       " -10.722756816052929,\n",
       " -20853.115743927163,\n",
       " 0.2307954186399206]"
      ]
     },
     "execution_count": 103,
     "metadata": {},
     "output_type": "execute_result"
    }
   ],
   "source": [
    "metrics_df.iloc[1].tolist()"
   ]
  },
  {
   "cell_type": "markdown",
   "id": "8256c259",
   "metadata": {},
   "source": [
    "# Logistic Regression"
   ]
  },
  {
   "cell_type": "code",
   "execution_count": 104,
   "id": "bd00a56f",
   "metadata": {},
   "outputs": [],
   "source": [
    "from sklearn.metrics import (\n",
    "    accuracy_score, \n",
    "    precision_score,\n",
    "    recall_score,\n",
    "    roc_auc_score,\n",
    "    f1_score,\n",
    "    confusion_matrix,\n",
    "    classification_report\n",
    ")"
   ]
  },
  {
   "cell_type": "code",
   "execution_count": 105,
   "id": "1aaee553",
   "metadata": {},
   "outputs": [],
   "source": [
    "# function for evaluation metrics precision, recall, f1 etc\n",
    "def modelEvaluation(model,predictions, y_test_set, model_name):    \n",
    "    \"\"\"\n",
    "    In modelEvaluation function we are doing all the things that given below:\n",
    "    - checking the accuracy of model\n",
    "    - checking the precision of model\n",
    "    - checking the recall of model \n",
    "    - checking the f1-score of model\n",
    "    - checking confusion matrix\n",
    "    - checking classification report\n",
    "    \"\"\"\n",
    "    # Print model evaluation to predicted result    \n",
    "    print(\"=\"*100)\n",
    "    print(\"\\t\\t\", model_name)\n",
    "    print(\"=\"*100)\n",
    "    print (\"\\nAccuracy on validation set: {:.4f}\".format(accuracy_score(y_test_set, predictions)))  \n",
    "    print (\"\\nClassification report : \\n\", classification_report(y_test_set, predictions))\n",
    "    \n",
    "    print(\"=\"*30)\n",
    "    print (\"\\tConfusion Matrix\",)\n",
    "    print(\"=\"*30)\n",
    "    cm = confusion_matrix(y_test_set, predictions)\n",
    "    print(cm)\n",
    "    results = [accuracy_score(y_test_set, predictions)]\n",
    "    return results"
   ]
  },
  {
   "cell_type": "code",
   "execution_count": 106,
   "id": "0f831f6c",
   "metadata": {},
   "outputs": [],
   "source": [
    "def model_building(model_object, X_train, X_test, y_train, y_test):\n",
    "    # lets fit the model object\n",
    "    model_object.fit(X_train, y_train)\n",
    "    # predicting the model\n",
    "    predictions = model_object.predict(X_test)\n",
    "    # checking the results of model\n",
    "    results = modelEvaluation(model_object,predictions, y_test, model_object)\n",
    "    return results"
   ]
  },
  {
   "cell_type": "code",
   "execution_count": 107,
   "id": "7eae5eec",
   "metadata": {},
   "outputs": [],
   "source": [
    "house[\"statusEnc\"] = LB.fit_transform(house[\"status\"])"
   ]
  },
  {
   "cell_type": "code",
   "execution_count": 108,
   "id": "db500f52",
   "metadata": {
    "scrolled": true
   },
   "outputs": [
    {
     "data": {
      "text/html": [
       "<div>\n",
       "<style scoped>\n",
       "    .dataframe tbody tr th:only-of-type {\n",
       "        vertical-align: middle;\n",
       "    }\n",
       "\n",
       "    .dataframe tbody tr th {\n",
       "        vertical-align: top;\n",
       "    }\n",
       "\n",
       "    .dataframe thead th {\n",
       "        text-align: right;\n",
       "    }\n",
       "</style>\n",
       "<table border=\"1\" class=\"dataframe\">\n",
       "  <thead>\n",
       "    <tr style=\"text-align: right;\">\n",
       "      <th></th>\n",
       "      <th>status</th>\n",
       "      <th>price</th>\n",
       "      <th>bed</th>\n",
       "      <th>bath</th>\n",
       "      <th>acre_lot</th>\n",
       "      <th>full_address</th>\n",
       "      <th>street</th>\n",
       "      <th>city</th>\n",
       "      <th>state</th>\n",
       "      <th>zip_code</th>\n",
       "      <th>house_size</th>\n",
       "      <th>price_std</th>\n",
       "      <th>bed_std</th>\n",
       "      <th>bath_std</th>\n",
       "      <th>acre_lot_std</th>\n",
       "      <th>house_size_std</th>\n",
       "      <th>cityEnc</th>\n",
       "      <th>stateEnc</th>\n",
       "      <th>statusEnc</th>\n",
       "    </tr>\n",
       "  </thead>\n",
       "  <tbody>\n",
       "    <tr>\n",
       "      <th>0</th>\n",
       "      <td>for_sale</td>\n",
       "      <td>105000.0</td>\n",
       "      <td>3.0</td>\n",
       "      <td>2.0</td>\n",
       "      <td>0.12</td>\n",
       "      <td>Sector Yahuecas Titulo # V84, Adjuntas, PR, 00601</td>\n",
       "      <td>Sector Yahuecas Titulo # V84</td>\n",
       "      <td>Adjuntas</td>\n",
       "      <td>Puerto Rico</td>\n",
       "      <td>601.0</td>\n",
       "      <td>920.000000</td>\n",
       "      <td>-0.410354</td>\n",
       "      <td>-0.286583</td>\n",
       "      <td>-0.394987</td>\n",
       "      <td>-0.022760</td>\n",
       "      <td>-0.165648</td>\n",
       "      <td>8</td>\n",
       "      <td>7</td>\n",
       "      <td>0</td>\n",
       "    </tr>\n",
       "    <tr>\n",
       "      <th>1</th>\n",
       "      <td>for_sale</td>\n",
       "      <td>80000.0</td>\n",
       "      <td>4.0</td>\n",
       "      <td>2.0</td>\n",
       "      <td>0.08</td>\n",
       "      <td>Km 78 9 Carr # 135, Adjuntas, PR, 00601</td>\n",
       "      <td>Km 78 9 Carr # 135</td>\n",
       "      <td>Adjuntas</td>\n",
       "      <td>Puerto Rico</td>\n",
       "      <td>601.0</td>\n",
       "      <td>1527.000000</td>\n",
       "      <td>-0.430589</td>\n",
       "      <td>0.324236</td>\n",
       "      <td>-0.394987</td>\n",
       "      <td>-0.022798</td>\n",
       "      <td>-0.093160</td>\n",
       "      <td>8</td>\n",
       "      <td>7</td>\n",
       "      <td>0</td>\n",
       "    </tr>\n",
       "    <tr>\n",
       "      <th>2</th>\n",
       "      <td>for_sale</td>\n",
       "      <td>67000.0</td>\n",
       "      <td>2.0</td>\n",
       "      <td>1.0</td>\n",
       "      <td>0.15</td>\n",
       "      <td>556G 556-G 16 St, Juana Diaz, PR, 00795</td>\n",
       "      <td>556G 556-G 16 St</td>\n",
       "      <td>Juana Diaz</td>\n",
       "      <td>Puerto Rico</td>\n",
       "      <td>795.0</td>\n",
       "      <td>748.000000</td>\n",
       "      <td>-0.441111</td>\n",
       "      <td>-0.897402</td>\n",
       "      <td>-1.121307</td>\n",
       "      <td>-0.022731</td>\n",
       "      <td>-0.186188</td>\n",
       "      <td>602</td>\n",
       "      <td>7</td>\n",
       "      <td>0</td>\n",
       "    </tr>\n",
       "    <tr>\n",
       "      <th>3</th>\n",
       "      <td>for_sale</td>\n",
       "      <td>145000.0</td>\n",
       "      <td>4.0</td>\n",
       "      <td>2.0</td>\n",
       "      <td>0.10</td>\n",
       "      <td>R5 Comunidad El Paraso Calle De Oro R-5 Ponce,...</td>\n",
       "      <td>R5 Comunidad El Paraso Calle De Oro R-5 Ponce</td>\n",
       "      <td>Ponce</td>\n",
       "      <td>Puerto Rico</td>\n",
       "      <td>731.0</td>\n",
       "      <td>1800.000000</td>\n",
       "      <td>-0.377979</td>\n",
       "      <td>0.324236</td>\n",
       "      <td>-0.394987</td>\n",
       "      <td>-0.022779</td>\n",
       "      <td>-0.060559</td>\n",
       "      <td>965</td>\n",
       "      <td>7</td>\n",
       "      <td>0</td>\n",
       "    </tr>\n",
       "    <tr>\n",
       "      <th>4</th>\n",
       "      <td>for_sale</td>\n",
       "      <td>65000.0</td>\n",
       "      <td>6.0</td>\n",
       "      <td>2.0</td>\n",
       "      <td>0.05</td>\n",
       "      <td>14 Navarro, Mayaguez, PR, 00680</td>\n",
       "      <td>14 Navarro</td>\n",
       "      <td>Mayaguez</td>\n",
       "      <td>Puerto Rico</td>\n",
       "      <td>680.0</td>\n",
       "      <td>2004.533333</td>\n",
       "      <td>-0.442730</td>\n",
       "      <td>1.545874</td>\n",
       "      <td>-0.394987</td>\n",
       "      <td>-0.022826</td>\n",
       "      <td>-0.036134</td>\n",
       "      <td>720</td>\n",
       "      <td>7</td>\n",
       "      <td>0</td>\n",
       "    </tr>\n",
       "  </tbody>\n",
       "</table>\n",
       "</div>"
      ],
      "text/plain": [
       "     status     price  bed  bath  acre_lot  \\\n",
       "0  for_sale  105000.0  3.0   2.0      0.12   \n",
       "1  for_sale   80000.0  4.0   2.0      0.08   \n",
       "2  for_sale   67000.0  2.0   1.0      0.15   \n",
       "3  for_sale  145000.0  4.0   2.0      0.10   \n",
       "4  for_sale   65000.0  6.0   2.0      0.05   \n",
       "\n",
       "                                        full_address  \\\n",
       "0  Sector Yahuecas Titulo # V84, Adjuntas, PR, 00601   \n",
       "1            Km 78 9 Carr # 135, Adjuntas, PR, 00601   \n",
       "2            556G 556-G 16 St, Juana Diaz, PR, 00795   \n",
       "3  R5 Comunidad El Paraso Calle De Oro R-5 Ponce,...   \n",
       "4                    14 Navarro, Mayaguez, PR, 00680   \n",
       "\n",
       "                                          street        city        state  \\\n",
       "0                   Sector Yahuecas Titulo # V84    Adjuntas  Puerto Rico   \n",
       "1                             Km 78 9 Carr # 135    Adjuntas  Puerto Rico   \n",
       "2                               556G 556-G 16 St  Juana Diaz  Puerto Rico   \n",
       "3  R5 Comunidad El Paraso Calle De Oro R-5 Ponce       Ponce  Puerto Rico   \n",
       "4                                     14 Navarro    Mayaguez  Puerto Rico   \n",
       "\n",
       "   zip_code   house_size  price_std   bed_std  bath_std  acre_lot_std  \\\n",
       "0     601.0   920.000000  -0.410354 -0.286583 -0.394987     -0.022760   \n",
       "1     601.0  1527.000000  -0.430589  0.324236 -0.394987     -0.022798   \n",
       "2     795.0   748.000000  -0.441111 -0.897402 -1.121307     -0.022731   \n",
       "3     731.0  1800.000000  -0.377979  0.324236 -0.394987     -0.022779   \n",
       "4     680.0  2004.533333  -0.442730  1.545874 -0.394987     -0.022826   \n",
       "\n",
       "   house_size_std  cityEnc  stateEnc  statusEnc  \n",
       "0       -0.165648        8         7          0  \n",
       "1       -0.093160        8         7          0  \n",
       "2       -0.186188      602         7          0  \n",
       "3       -0.060559      965         7          0  \n",
       "4       -0.036134      720         7          0  "
      ]
     },
     "execution_count": 108,
     "metadata": {},
     "output_type": "execute_result"
    }
   ],
   "source": [
    "house.head()"
   ]
  },
  {
   "cell_type": "code",
   "execution_count": 109,
   "id": "0aa9617a",
   "metadata": {},
   "outputs": [],
   "source": [
    "v = ['bed_std', 'bath_std','house_size_std','cityEnc','stateEnc','acre_lot_std','price_std']\n",
    "X = house[var]\n",
    "y = house['stateEnc']"
   ]
  },
  {
   "cell_type": "code",
   "execution_count": 110,
   "id": "21583e61",
   "metadata": {},
   "outputs": [],
   "source": [
    "import pandas as pd\n",
    "import numpy as np\n",
    "import matplotlib.pyplot as plt\n",
    "from sklearn import datasets\n",
    "from sklearn import model_selection\n",
    "from sklearn import linear_model\n",
    "from sklearn import metrics"
   ]
  },
  {
   "cell_type": "code",
   "execution_count": 111,
   "id": "a6f7716f",
   "metadata": {},
   "outputs": [
    {
     "name": "stdout",
     "output_type": "stream",
     "text": [
      "X_train dimension=  (25470, 6)\n",
      "X_test dimension=  (10917, 6)\n",
      "y_train dimension=  (25470,)\n",
      "y_train dimension=  (10917,)\n"
     ]
    }
   ],
   "source": [
    "X_train, X_test, y_train, y_test = model_selection.train_test_split(X, y, test_size= 0.3, random_state = 42)\n",
    "\n",
    "print('X_train dimension= ', X_train.shape)\n",
    "print('X_test dimension= ', X_test.shape)\n",
    "print('y_train dimension= ', y_train.shape)\n",
    "print('y_train dimension= ', y_test.shape)\n"
   ]
  },
  {
   "cell_type": "code",
   "execution_count": 112,
   "id": "607dab6a",
   "metadata": {},
   "outputs": [
    {
     "data": {
      "text/plain": [
       "LogisticRegression(multi_class='ovr', solver='liblinear')"
      ]
     },
     "execution_count": 112,
     "metadata": {},
     "output_type": "execute_result"
    }
   ],
   "source": [
    "lm = linear_model.LogisticRegression(multi_class='ovr', solver='liblinear')\n",
    "lm.fit(X_train, y_train)"
   ]
  },
  {
   "cell_type": "markdown",
   "id": "a82ce138",
   "metadata": {},
   "source": [
    "Classification Report\n",
    "Classification report is used to measure the quality of prediction from classification algorithm\n",
    "\n",
    "* Precision: Indicates how many classes are correctly classified\n",
    "* Recall: Indicates what proportions of actual positives was identified correctly\n",
    "* F-Score: It is the harmonic mean between precision & recall\n",
    "* Support: It is the number of occurrence of the given class in our dataset"
   ]
  },
  {
   "cell_type": "code",
   "execution_count": 113,
   "id": "45d47284",
   "metadata": {
    "scrolled": true
   },
   "outputs": [
    {
     "name": "stdout",
     "output_type": "stream",
     "text": [
      "              precision    recall  f1-score   support\n",
      "\n",
      "           0       1.00      1.00      1.00      2128\n",
      "           1       0.00      0.00      0.00         2\n",
      "           2       0.00      0.00      0.00      1494\n",
      "           3       0.47      1.00      0.64      3034\n",
      "           4       0.00      0.00      0.00       990\n",
      "           6       0.00      0.00      0.00       463\n",
      "           7       0.35      0.05      0.09       781\n",
      "           8       0.62      0.83      0.71      1042\n",
      "           9       0.75      0.74      0.75       763\n",
      "          10       0.26      0.05      0.09       220\n",
      "\n",
      "    accuracy                           0.61     10917\n",
      "   macro avg       0.34      0.37      0.33     10917\n",
      "weighted avg       0.47      0.61      0.50     10917\n",
      "\n"
     ]
    }
   ],
   "source": [
    "print(metrics.classification_report(y_test, lm.predict(X_test)))"
   ]
  },
  {
   "cell_type": "code",
   "execution_count": 114,
   "id": "c3e2b476",
   "metadata": {},
   "outputs": [],
   "source": [
    "params = { \n",
    "    'C': [0.001, 0.01, 0.1, 1, 10],\n",
    "    'penalty': ['l1', 'l2']}\n",
    "logistic_grid_search = GridSearchCV(estimator = lm, param_grid = params, cv =5)\n",
    "logistic_grid_search = logistic_grid_search.fit(X_train, y_train)"
   ]
  },
  {
   "cell_type": "code",
   "execution_count": 115,
   "id": "36cd9b38",
   "metadata": {},
   "outputs": [
    {
     "name": "stdout",
     "output_type": "stream",
     "text": [
      " Results from Grid Search \n",
      "\n",
      " The best estimator across ALL searched params:\n",
      " LogisticRegression(C=10, multi_class='ovr', penalty='l1', solver='liblinear')\n",
      "\n",
      " The best score across ALL searched params:\n",
      " 0.6287396937573616\n",
      "\n",
      " The best parameters across ALL searched params:\n",
      " {'C': 10, 'penalty': 'l1'}\n",
      "\n",
      " The best test accuracy ALL searched params:\n",
      " 0.638636988183567\n"
     ]
    }
   ],
   "source": [
    "    print(\" Results from Grid Search \" )\n",
    "    print(\"\\n The best estimator across ALL searched params:\\n\",logistic_grid_search.best_estimator_)\n",
    "    print(\"\\n The best score across ALL searched params:\\n\",logistic_grid_search.best_score_)\n",
    "    print(\"\\n The best parameters across ALL searched params:\\n\",logistic_grid_search.best_params_)\n",
    "    print(\"\\n The best test accuracy ALL searched params:\\n\",logistic_grid_search.score(X_test, y_test))"
   ]
  },
  {
   "cell_type": "code",
   "execution_count": 116,
   "id": "64175038",
   "metadata": {},
   "outputs": [
    {
     "name": "stdout",
     "output_type": "stream",
     "text": [
      "====================================================================================================\n",
      "\t\t LogisticRegression(multi_class='ovr', solver='liblinear')\n",
      "====================================================================================================\n",
      "\n",
      "Accuracy on validation set: 0.6091\n",
      "\n",
      "Classification report : \n",
      "               precision    recall  f1-score   support\n",
      "\n",
      "           0       1.00      1.00      1.00      2128\n",
      "           1       0.00      0.00      0.00         2\n",
      "           2       0.00      0.00      0.00      1494\n",
      "           3       0.47      1.00      0.64      3034\n",
      "           4       0.00      0.00      0.00       990\n",
      "           6       0.00      0.00      0.00       463\n",
      "           7       0.35      0.05      0.09       781\n",
      "           8       0.62      0.83      0.71      1042\n",
      "           9       0.75      0.74      0.75       763\n",
      "          10       0.26      0.05      0.09       220\n",
      "\n",
      "    accuracy                           0.61     10917\n",
      "   macro avg       0.34      0.37      0.33     10917\n",
      "weighted avg       0.47      0.61      0.50     10917\n",
      "\n",
      "==============================\n",
      "\tConfusion Matrix\n",
      "==============================\n",
      "[[2128    0    0    0    0    0    0    0    0    0]\n",
      " [   0    0    0    2    0    0    0    0    0    0]\n",
      " [   0    0    0 1494    0    0    0    0    0    0]\n",
      " [   0    0    0 3034    0    0    0    0    0    0]\n",
      " [   0    0    0  990    0    0    0    0    0    0]\n",
      " [   0    0    0  448    0    0    0   15    0    0]\n",
      " [   0    0    0  409    0    1   39  332    0    0]\n",
      " [   0    0    0   99    0    0   69  869    3    2]\n",
      " [   0    0    0    0    0    0    5  157  568   33]\n",
      " [   0    0    0    0    0    0    0   26  182   12]]\n"
     ]
    }
   ],
   "source": [
    "results_lm = model_building(lm,  X_train, X_test, y_train, y_test)"
   ]
  },
  {
   "cell_type": "code",
   "execution_count": 117,
   "id": "ca50bb28",
   "metadata": {},
   "outputs": [
    {
     "name": "stdout",
     "output_type": "stream",
     "text": [
      "====================================================================================================\n",
      "\t\t GridSearchCV(cv=5,\n",
      "             estimator=LogisticRegression(multi_class='ovr',\n",
      "                                          solver='liblinear'),\n",
      "             param_grid={'C': [0.001, 0.01, 0.1, 1, 10],\n",
      "                         'penalty': ['l1', 'l2']})\n",
      "====================================================================================================\n",
      "\n",
      "Accuracy on validation set: 0.6311\n",
      "\n",
      "Classification report : \n",
      "               precision    recall  f1-score   support\n",
      "\n",
      "           0       1.00      1.00      1.00      2128\n",
      "           1       0.00      0.00      0.00         2\n",
      "           2       0.96      0.02      0.03      1494\n",
      "           3       0.47      1.00      0.64      3034\n",
      "           4       0.09      0.00      0.00       990\n",
      "           6       0.00      0.00      0.00       463\n",
      "           7       0.28      0.04      0.07       781\n",
      "           8       0.64      0.84      0.73      1042\n",
      "           9       0.97      0.79      0.87       763\n",
      "          10       1.00      0.91      0.95       220\n",
      "\n",
      "    accuracy                           0.63     10917\n",
      "   macro avg       0.54      0.46      0.43     10917\n",
      "weighted avg       0.63      0.63      0.53     10917\n",
      "\n",
      "==============================\n",
      "\tConfusion Matrix\n",
      "==============================\n",
      "[[2128    0    0    0    0    0    0    0    0    0]\n",
      " [   0    0    0    2    0    0    0    0    0    0]\n",
      " [   0    0   25 1469    0    0    0    0    0    0]\n",
      " [   0    0    1 3033    0    0    0    0    0    0]\n",
      " [   0    0    0  989    1    0    0    0    0    0]\n",
      " [   0    0    0  431    6    0    2   24    0    0]\n",
      " [   0    0    0  411    4    1   31  334    0    0]\n",
      " [   0    0    0  108    0    0   61  873    0    0]\n",
      " [   0    0    0   15    0    0   17  131  599    1]\n",
      " [   0    0    0    0    0    0    0    0   20  200]]\n"
     ]
    }
   ],
   "source": [
    "results_lm_grid = model_building(logistic_grid_search,  X_train, X_test, y_train, y_test)"
   ]
  },
  {
   "cell_type": "markdown",
   "id": "ff999fab",
   "metadata": {},
   "source": [
    "# KNN "
   ]
  },
  {
   "cell_type": "code",
   "execution_count": 118,
   "id": "df3c33c6",
   "metadata": {},
   "outputs": [
    {
     "name": "stdout",
     "output_type": "stream",
     "text": [
      "0.9504232164449818\n"
     ]
    }
   ],
   "source": [
    "# dividing X, y into train and test data\n",
    "X_train, X_test, y_train, y_test = train_test_split(X, y, random_state = 42)\n",
    "  \n",
    "# training a KNN classifier\n",
    "from sklearn.neighbors import KNeighborsClassifier\n",
    "knn = KNeighborsClassifier(n_neighbors = 10).fit(X_train, y_train)\n",
    "  \n",
    "# accuracy on X_test\n",
    "accuracy = knn.score(X_test, y_test)\n",
    "print(accuracy)\n",
    "  \n",
    "# creating a confusion matrix\n",
    "knn_predictions = knn.predict(X_test) \n"
   ]
  },
  {
   "cell_type": "code",
   "execution_count": 119,
   "id": "a552b34e",
   "metadata": {},
   "outputs": [
    {
     "data": {
      "text/plain": [
       "GridSearchCV(cv=5, estimator=KNeighborsClassifier(),\n",
       "             param_grid={'n_neighbors': range(2, 15)})"
      ]
     },
     "execution_count": 119,
     "metadata": {},
     "output_type": "execute_result"
    }
   ],
   "source": [
    "from sklearn.model_selection import GridSearchCV\n",
    "\n",
    "# define function\n",
    "base_knn = KNeighborsClassifier()\n",
    "\n",
    "# define a list of parameters\n",
    "param_knn = {'n_neighbors': range(2, 15, 1)}  \n",
    "\n",
    "#apply grid search\n",
    "grid_knn = GridSearchCV(base_knn, param_knn, cv = 5)\n",
    "grid_knn.fit(X_train, y_train) \n",
    "\n"
   ]
  },
  {
   "cell_type": "code",
   "execution_count": 120,
   "id": "05b5a61e",
   "metadata": {},
   "outputs": [
    {
     "name": "stdout",
     "output_type": "stream",
     "text": [
      " Results from Grid Search \n",
      "\n",
      " The best estimator across ALL searched params:\n",
      " KNeighborsClassifier(n_neighbors=2)\n",
      "\n",
      " The best score across ALL searched params:\n",
      " 0.9816782704287285\n",
      "\n",
      " The best parameters across ALL searched params:\n",
      " {'n_neighbors': 2}\n",
      "\n",
      " The best test accuracy ALL searched params:\n",
      " 0.9854897218863361\n"
     ]
    }
   ],
   "source": [
    "    print(\" Results from Grid Search \" )\n",
    "    print(\"\\n The best estimator across ALL searched params:\\n\",grid_knn.best_estimator_)\n",
    "    print(\"\\n The best score across ALL searched params:\\n\",grid_knn.best_score_)\n",
    "    print(\"\\n The best parameters across ALL searched params:\\n\",grid_knn.best_params_)\n",
    "    print(\"\\n The best test accuracy ALL searched params:\\n\",grid_knn.score(X_test, y_test))"
   ]
  },
  {
   "cell_type": "code",
   "execution_count": 121,
   "id": "9d1aee6d",
   "metadata": {},
   "outputs": [
    {
     "name": "stdout",
     "output_type": "stream",
     "text": [
      "====================================================================================================\n",
      "\t\t KNeighborsClassifier(n_neighbors=10)\n",
      "====================================================================================================\n",
      "\n",
      "Accuracy on validation set: 0.9504\n",
      "\n",
      "Classification report : \n",
      "               precision    recall  f1-score   support\n",
      "\n",
      "           0       0.99      0.99      0.99      1732\n",
      "           1       0.00      0.00      0.00         2\n",
      "           2       0.93      0.90      0.92      1248\n",
      "           3       0.93      0.96      0.94      2515\n",
      "           4       0.93      0.89      0.91       833\n",
      "           6       0.93      0.91      0.92       401\n",
      "           7       0.96      0.98      0.97       660\n",
      "           8       0.96      1.00      0.98       878\n",
      "           9       0.97      0.89      0.93       646\n",
      "          10       0.99      0.99      0.99       182\n",
      "\n",
      "    accuracy                           0.95      9097\n",
      "   macro avg       0.86      0.85      0.85      9097\n",
      "weighted avg       0.95      0.95      0.95      9097\n",
      "\n",
      "==============================\n",
      "\tConfusion Matrix\n",
      "==============================\n",
      "[[1722    0    7    3    0    0    0    0    0    0]\n",
      " [   1    0    1    0    0    0    0    0    0    0]\n",
      " [  17    0 1123  101    6    0    1    0    0    0]\n",
      " [   1    0   58 2421   33    1    0    0    1    0]\n",
      " [   0    0   14   71  743    5    0    0    0    0]\n",
      " [   0    0    0   12    8  365    2    9    5    0]\n",
      " [   0    0    0    0    2    1  644    6    7    0]\n",
      " [   0    0    0    0    0    0    1  874    3    0]\n",
      " [   0    0    0    1    4   20   22   24  574    1]\n",
      " [   0    0    0    0    0    0    0    0    2  180]]\n"
     ]
    }
   ],
   "source": [
    "results_knn = model_building(knn,  X_train, X_test, y_train, y_test)"
   ]
  },
  {
   "cell_type": "code",
   "execution_count": 122,
   "id": "6afaa32a",
   "metadata": {},
   "outputs": [
    {
     "name": "stdout",
     "output_type": "stream",
     "text": [
      "====================================================================================================\n",
      "\t\t GridSearchCV(cv=5, estimator=KNeighborsClassifier(),\n",
      "             param_grid={'n_neighbors': range(2, 15)})\n",
      "====================================================================================================\n",
      "\n",
      "Accuracy on validation set: 0.9855\n",
      "\n",
      "Classification report : \n",
      "               precision    recall  f1-score   support\n",
      "\n",
      "           0       1.00      1.00      1.00      1732\n",
      "           1       1.00      1.00      1.00         2\n",
      "           2       0.98      0.98      0.98      1248\n",
      "           3       0.98      0.99      0.98      2515\n",
      "           4       0.98      0.96      0.97       833\n",
      "           6       0.99      0.97      0.98       401\n",
      "           7       0.99      1.00      0.99       660\n",
      "           8       0.99      1.00      0.99       878\n",
      "           9       1.00      0.96      0.98       646\n",
      "          10       1.00      1.00      1.00       182\n",
      "\n",
      "    accuracy                           0.99      9097\n",
      "   macro avg       0.99      0.99      0.99      9097\n",
      "weighted avg       0.99      0.99      0.99      9097\n",
      "\n",
      "==============================\n",
      "\tConfusion Matrix\n",
      "==============================\n",
      "[[1730    0    1    1    0    0    0    0    0    0]\n",
      " [   0    2    0    0    0    0    0    0    0    0]\n",
      " [   5    0 1223   18    2    0    0    0    0    0]\n",
      " [   2    0   24 2486    2    1    0    0    0    0]\n",
      " [   0    0    4   31  798    0    0    0    0    0]\n",
      " [   0    0    0    5    5  389    1    1    0    0]\n",
      " [   0    0    0    1    1    0  657    1    0    0]\n",
      " [   0    0    0    0    0    0    0  878    0    0]\n",
      " [   0    0    0    1    3    4    9    9  620    0]\n",
      " [   0    0    0    0    0    0    0    0    0  182]]\n"
     ]
    }
   ],
   "source": [
    "results_knn_grid = model_building(grid_knn,  X_train, X_test, y_train, y_test)"
   ]
  },
  {
   "cell_type": "markdown",
   "id": "f6b60be7",
   "metadata": {},
   "source": [
    "# Decision Trees"
   ]
  },
  {
   "cell_type": "code",
   "execution_count": 123,
   "id": "e3a123b7",
   "metadata": {},
   "outputs": [],
   "source": [
    "from sklearn.model_selection import train_test_split\n",
    "\n",
    "# Split data into training and test\n",
    "X_train, X_test, y_train, y_test = train_test_split(X, \n",
    "                                                    y, \n",
    "                                                    random_state=42)"
   ]
  },
  {
   "cell_type": "code",
   "execution_count": 124,
   "id": "1e20585c",
   "metadata": {},
   "outputs": [
    {
     "data": {
      "text/plain": [
       "1.0"
      ]
     },
     "execution_count": 124,
     "metadata": {},
     "output_type": "execute_result"
    }
   ],
   "source": [
    "from sklearn.tree import DecisionTreeClassifier\n",
    "\n",
    "# A Basic Tree\n",
    "\n",
    "clf_tree = DecisionTreeClassifier(criterion = 'entropy', random_state = 0)\n",
    "\n",
    "# Train the Model\n",
    "clf_tree.fit(X_train, y_train)\n",
    "\n",
    "# Obtain and print accuracy\n",
    "clf_tree.score(X_test, y_test)"
   ]
  },
  {
   "cell_type": "code",
   "execution_count": 125,
   "id": "da551f9c",
   "metadata": {},
   "outputs": [
    {
     "data": {
      "text/plain": [
       "array([0., 0., 0., 0., 1., 0.])"
      ]
     },
     "execution_count": 125,
     "metadata": {},
     "output_type": "execute_result"
    }
   ],
   "source": [
    "clf_tree.feature_importances_"
   ]
  },
  {
   "cell_type": "code",
   "execution_count": 126,
   "id": "8983c30d",
   "metadata": {},
   "outputs": [
    {
     "data": {
      "image/png": "[encoded data removed]",
      "text/plain": [
       "<Figure size 2880x2160 with 1 Axes>"
      ]
     },
     "metadata": {
      "needs_background": "light"
     },
     "output_type": "display_data"
    }
   ],
   "source": [
    "# Plot the decision tree\n",
    "from sklearn import tree\n",
    "\n",
    "# set a proper figure size (in case that the figure is too small to read or ratio is not proper)\n",
    "fig = plt.figure(figsize=(40,30))\n",
    "\n",
    "tree.plot_tree(clf_tree, \n",
    "               filled = True, # whether to color the boxes\n",
    "               impurity = False, # whether to report gini index\n",
    "               fontsize = 10) # set fontsize to read\n",
    "plt.show()\n",
    "\n",
    "# save the figure to read through the boxes, it is saved under the same directory as the coding doc.\n",
    "fig.savefig(\"decision_tree_basic.jpg\")"
   ]
  },
  {
   "cell_type": "code",
   "execution_count": 127,
   "id": "d8479752",
   "metadata": {},
   "outputs": [
    {
     "data": {
      "text/plain": [
       "GridSearchCV(estimator=DecisionTreeClassifier(random_state=42),\n",
       "             param_grid={'max_depth': range(1, 10),\n",
       "                         'max_leaf_nodes': range(2, 11),\n",
       "                         'min_samples_split': range(2, 11)})"
      ]
     },
     "execution_count": 127,
     "metadata": {},
     "output_type": "execute_result"
    }
   ],
   "source": [
    "# GridSearch\n",
    "from sklearn.model_selection import GridSearchCV\n",
    "\n",
    "# Define Function\n",
    "opt_tree = DecisionTreeClassifier(random_state = 42)\n",
    "\n",
    "# Define all potential hyperparameters (this time, specify three different hyperparameters)\n",
    "DT_params = {'max_depth': range(1,10), \n",
    "             'min_samples_split': range(2, 11),\n",
    "             'max_leaf_nodes': range(2, 11)}\n",
    "\n",
    "# Define GridSearchCV\n",
    "grid_tree = GridSearchCV(opt_tree, DT_params)\n",
    "\n",
    "# Train the model, and report accuracy\n",
    "grid_tree.fit(X_train, y_train)\n"
   ]
  },
  {
   "cell_type": "code",
   "execution_count": 128,
   "id": "6c60eee1",
   "metadata": {},
   "outputs": [
    {
     "name": "stdout",
     "output_type": "stream",
     "text": [
      " Results from Grid Search \n",
      "\n",
      " The best estimator across ALL searched params:\n",
      " DecisionTreeClassifier(max_depth=6, max_leaf_nodes=10, random_state=42)\n",
      "\n",
      " The best score across ALL searched params:\n",
      " 0.9999267130817149\n",
      "\n",
      " The best parameters across ALL searched params:\n",
      " {'max_depth': 6, 'max_leaf_nodes': 10, 'min_samples_split': 2}\n",
      "\n",
      " The best test accuracy ALL searched params:\n",
      " 1.0\n"
     ]
    }
   ],
   "source": [
    "print(\" Results from Grid Search \" )\n",
    "print(\"\\n The best estimator across ALL searched params:\\n\",grid_tree.best_estimator_)\n",
    "print(\"\\n The best score across ALL searched params:\\n\",grid_tree.best_score_)\n",
    "print(\"\\n The best parameters across ALL searched params:\\n\",grid_tree.best_params_)\n",
    "print(\"\\n The best test accuracy ALL searched params:\\n\",grid_tree.score(X_test, y_test))"
   ]
  },
  {
   "cell_type": "code",
   "execution_count": 129,
   "id": "cd4eb5a5",
   "metadata": {},
   "outputs": [
    {
     "name": "stdout",
     "output_type": "stream",
     "text": [
      "              precision    recall  f1-score   support\n",
      "\n",
      "           0       1.00      1.00      1.00      1732\n",
      "           1       1.00      1.00      1.00         2\n",
      "           2       1.00      1.00      1.00      1248\n",
      "           3       1.00      1.00      1.00      2515\n",
      "           4       1.00      1.00      1.00       833\n",
      "           6       1.00      1.00      1.00       401\n",
      "           7       1.00      1.00      1.00       660\n",
      "           8       1.00      1.00      1.00       878\n",
      "           9       1.00      1.00      1.00       646\n",
      "          10       1.00      1.00      1.00       182\n",
      "\n",
      "    accuracy                           1.00      9097\n",
      "   macro avg       1.00      1.00      1.00      9097\n",
      "weighted avg       1.00      1.00      1.00      9097\n",
      "\n"
     ]
    }
   ],
   "source": [
    "print(metrics.classification_report(y_test, grid_tree.predict(X_test)))"
   ]
  },
  {
   "cell_type": "code",
   "execution_count": 130,
   "id": "4372619a",
   "metadata": {},
   "outputs": [
    {
     "name": "stdout",
     "output_type": "stream",
     "text": [
      "====================================================================================================\n",
      "\t\t DecisionTreeClassifier(criterion='entropy', random_state=0)\n",
      "====================================================================================================\n",
      "\n",
      "Accuracy on validation set: 1.0000\n",
      "\n",
      "Classification report : \n",
      "               precision    recall  f1-score   support\n",
      "\n",
      "           0       1.00      1.00      1.00      1732\n",
      "           1       1.00      1.00      1.00         2\n",
      "           2       1.00      1.00      1.00      1248\n",
      "           3       1.00      1.00      1.00      2515\n",
      "           4       1.00      1.00      1.00       833\n",
      "           6       1.00      1.00      1.00       401\n",
      "           7       1.00      1.00      1.00       660\n",
      "           8       1.00      1.00      1.00       878\n",
      "           9       1.00      1.00      1.00       646\n",
      "          10       1.00      1.00      1.00       182\n",
      "\n",
      "    accuracy                           1.00      9097\n",
      "   macro avg       1.00      1.00      1.00      9097\n",
      "weighted avg       1.00      1.00      1.00      9097\n",
      "\n",
      "==============================\n",
      "\tConfusion Matrix\n",
      "==============================\n",
      "[[1732    0    0    0    0    0    0    0    0    0]\n",
      " [   0    2    0    0    0    0    0    0    0    0]\n",
      " [   0    0 1248    0    0    0    0    0    0    0]\n",
      " [   0    0    0 2515    0    0    0    0    0    0]\n",
      " [   0    0    0    0  833    0    0    0    0    0]\n",
      " [   0    0    0    0    0  401    0    0    0    0]\n",
      " [   0    0    0    0    0    0  660    0    0    0]\n",
      " [   0    0    0    0    0    0    0  878    0    0]\n",
      " [   0    0    0    0    0    0    0    0  646    0]\n",
      " [   0    0    0    0    0    0    0    0    0  182]]\n"
     ]
    }
   ],
   "source": [
    "results_decision = model_building(clf_tree,  X_train, X_test, y_train, y_test)"
   ]
  },
  {
   "cell_type": "code",
   "execution_count": 131,
   "id": "bc89f42b",
   "metadata": {},
   "outputs": [
    {
     "name": "stdout",
     "output_type": "stream",
     "text": [
      "====================================================================================================\n",
      "\t\t GridSearchCV(estimator=DecisionTreeClassifier(random_state=42),\n",
      "             param_grid={'max_depth': range(1, 10),\n",
      "                         'max_leaf_nodes': range(2, 11),\n",
      "                         'min_samples_split': range(2, 11)})\n",
      "====================================================================================================\n",
      "\n",
      "Accuracy on validation set: 1.0000\n",
      "\n",
      "Classification report : \n",
      "               precision    recall  f1-score   support\n",
      "\n",
      "           0       1.00      1.00      1.00      1732\n",
      "           1       1.00      1.00      1.00         2\n",
      "           2       1.00      1.00      1.00      1248\n",
      "           3       1.00      1.00      1.00      2515\n",
      "           4       1.00      1.00      1.00       833\n",
      "           6       1.00      1.00      1.00       401\n",
      "           7       1.00      1.00      1.00       660\n",
      "           8       1.00      1.00      1.00       878\n",
      "           9       1.00      1.00      1.00       646\n",
      "          10       1.00      1.00      1.00       182\n",
      "\n",
      "    accuracy                           1.00      9097\n",
      "   macro avg       1.00      1.00      1.00      9097\n",
      "weighted avg       1.00      1.00      1.00      9097\n",
      "\n",
      "==============================\n",
      "\tConfusion Matrix\n",
      "==============================\n",
      "[[1732    0    0    0    0    0    0    0    0    0]\n",
      " [   0    2    0    0    0    0    0    0    0    0]\n",
      " [   0    0 1248    0    0    0    0    0    0    0]\n",
      " [   0    0    0 2515    0    0    0    0    0    0]\n",
      " [   0    0    0    0  833    0    0    0    0    0]\n",
      " [   0    0    0    0    0  401    0    0    0    0]\n",
      " [   0    0    0    0    0    0  660    0    0    0]\n",
      " [   0    0    0    0    0    0    0  878    0    0]\n",
      " [   0    0    0    0    0    0    0    0  646    0]\n",
      " [   0    0    0    0    0    0    0    0    0  182]]\n"
     ]
    }
   ],
   "source": [
    "results_decision_grid = model_building(grid_tree,  X_train, X_test, y_train, y_test)"
   ]
  },
  {
   "cell_type": "code",
   "execution_count": 132,
   "id": "447d045c",
   "metadata": {},
   "outputs": [
    {
     "name": "stdout",
     "output_type": "stream",
     "text": [
      "+--------------------------+------------+\n",
      "|                          |   accuracy |\n",
      "|--------------------------+------------|\n",
      "| KNN                      |   0.950423 |\n",
      "| KNN Tune                 |   0.98549  |\n",
      "| Logistic Regression      |   0.609142 |\n",
      "| Logistic Regression Tune |   0.631126 |\n",
      "| Decision Tree            |   1        |\n",
      "| Decision Tree Tune       |   1        |\n",
      "+--------------------------+------------+\n"
     ]
    }
   ],
   "source": [
    "dic = {\n",
    "    'Metrics':['accuracy'],\n",
    "    'KNN':results_knn,\n",
    "    'KNN Tune':results_knn_grid,\n",
    "    'Logistic Regression':results_lm,\n",
    "    'Logistic Regression Tune':results_lm_grid,\n",
    "    'Decision Tree':results_decision,\n",
    "    'Decision Tree Tune':results_decision_grid,\n",
    "    \n",
    "    \n",
    "}\n",
    "metrics_df = pd.DataFrame(dic)\n",
    "\n",
    "metrics_df = metrics_df.set_index('Metrics')\n",
    "# displaying the DataFrame\n",
    "print(tabulate(metrics_df.T, headers = 'keys', tablefmt = 'psql'))"
   ]
  },
  {
   "cell_type": "code",
   "execution_count": 133,
   "id": "c61cef76",
   "metadata": {},
   "outputs": [
    {
     "data": {
      "image/png": "[encoded data removed]",
      "text/plain": [
       "<Figure size 1080x360 with 1 Axes>"
      ]
     },
     "metadata": {
      "needs_background": "light"
     },
     "output_type": "display_data"
    }
   ],
   "source": [
    "models_acc = metrics_df.iloc[0].tolist()\n",
    "models_names = metrics_df.columns.tolist()\n",
    "plt.figure(figsize=(15,5))\n",
    "plt.bar(models_names,models_acc)\n",
    "plt.title(\"Models Accuracy\", fontsize=18)\n",
    "\n",
    "def addLabels(names,acc):\n",
    "    for i in range(len(names)):\n",
    "        plt.text(i,round(acc[i],4),f\"{round(acc[i],4)}%\", ha = 'center', bbox=dict(facecolor='yellow', alpha=0.9))\n",
    "\n",
    "addLabels(models_names,models_acc)\n",
    "plt.show()"
   ]
  }
 ],
 "metadata": {
  "kernelspec": {
   "display_name": "Python 3 (ipykernel)",
   "language": "python",
   "name": "python3"
  },
  "language_info": {
   "codemirror_mode": {
    "name": "ipython",
    "version": 3
   },
   "file_extension": ".py",
   "mimetype": "text/x-python",
   "name": "python",
   "nbconvert_exporter": "python",
   "pygments_lexer": "ipython3",
   "version": "3.9.7"
  }
 },
 "nbformat": 4,
 "nbformat_minor": 5
}
